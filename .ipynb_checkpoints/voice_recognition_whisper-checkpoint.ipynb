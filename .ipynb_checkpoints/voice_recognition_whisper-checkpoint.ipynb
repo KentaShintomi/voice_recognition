{
 "cells": [
  {
   "cell_type": "code",
   "execution_count": 1,
   "id": "2983988a",
   "metadata": {},
   "outputs": [
    {
     "name": "stdout",
     "output_type": "stream",
     "text": [
      "Looking in indexes: https://pypi.org/simple, https://pip.repos.neuron.amazonaws.com\n",
      "Requirement already satisfied: pydub in /home/ec2-user/anaconda3/envs/amazonei_pytorch_latest_p37/lib/python3.7/site-packages (0.25.1)\n",
      "Looking in indexes: https://pypi.org/simple, https://pip.repos.neuron.amazonaws.com\n",
      "Collecting git+https://github.com/openai/whisper.git\n",
      "  Cloning https://github.com/openai/whisper.git to /tmp/pip-req-build-b5aoav07\n",
      "  Running command git clone --filter=blob:none --quiet https://github.com/openai/whisper.git /tmp/pip-req-build-b5aoav07\n",
      "  Resolved https://github.com/openai/whisper.git to commit eff383b27b783e280c089475852ba83f20f64998\n",
      "  Preparing metadata (setup.py) ... \u001b[?25ldone\n",
      "\u001b[?25hRequirement already satisfied: numpy in /home/ec2-user/anaconda3/envs/amazonei_pytorch_latest_p37/lib/python3.7/site-packages (from whisper==1.0) (1.21.6)\n",
      "Requirement already satisfied: torch in /home/ec2-user/anaconda3/envs/amazonei_pytorch_latest_p37/lib/python3.7/site-packages (from whisper==1.0) (1.13.0)\n",
      "Requirement already satisfied: tqdm in /home/ec2-user/anaconda3/envs/amazonei_pytorch_latest_p37/lib/python3.7/site-packages (from whisper==1.0) (4.63.0)\n",
      "Requirement already satisfied: more-itertools in /home/ec2-user/anaconda3/envs/amazonei_pytorch_latest_p37/lib/python3.7/site-packages (from whisper==1.0) (9.0.0)\n",
      "Requirement already satisfied: transformers>=4.19.0 in /home/ec2-user/anaconda3/envs/amazonei_pytorch_latest_p37/lib/python3.7/site-packages (from whisper==1.0) (4.24.0)\n",
      "Requirement already satisfied: ffmpeg-python==0.2.0 in /home/ec2-user/anaconda3/envs/amazonei_pytorch_latest_p37/lib/python3.7/site-packages (from whisper==1.0) (0.2.0)\n",
      "Requirement already satisfied: future in /home/ec2-user/anaconda3/envs/amazonei_pytorch_latest_p37/lib/python3.7/site-packages (from ffmpeg-python==0.2.0->whisper==1.0) (0.18.2)\n",
      "Requirement already satisfied: huggingface-hub<1.0,>=0.10.0 in /home/ec2-user/anaconda3/envs/amazonei_pytorch_latest_p37/lib/python3.7/site-packages (from transformers>=4.19.0->whisper==1.0) (0.11.1)\n",
      "Requirement already satisfied: tokenizers!=0.11.3,<0.14,>=0.11.1 in /home/ec2-user/anaconda3/envs/amazonei_pytorch_latest_p37/lib/python3.7/site-packages (from transformers>=4.19.0->whisper==1.0) (0.11.6)\n",
      "Requirement already satisfied: packaging>=20.0 in /home/ec2-user/anaconda3/envs/amazonei_pytorch_latest_p37/lib/python3.7/site-packages (from transformers>=4.19.0->whisper==1.0) (21.3)\n",
      "Requirement already satisfied: importlib-metadata in /home/ec2-user/anaconda3/envs/amazonei_pytorch_latest_p37/lib/python3.7/site-packages (from transformers>=4.19.0->whisper==1.0) (4.11.3)\n",
      "Requirement already satisfied: requests in /home/ec2-user/anaconda3/envs/amazonei_pytorch_latest_p37/lib/python3.7/site-packages (from transformers>=4.19.0->whisper==1.0) (2.27.1)\n",
      "Requirement already satisfied: regex!=2019.12.17 in /home/ec2-user/anaconda3/envs/amazonei_pytorch_latest_p37/lib/python3.7/site-packages (from transformers>=4.19.0->whisper==1.0) (2022.3.15)\n",
      "Requirement already satisfied: filelock in /home/ec2-user/anaconda3/envs/amazonei_pytorch_latest_p37/lib/python3.7/site-packages (from transformers>=4.19.0->whisper==1.0) (3.6.0)\n",
      "Requirement already satisfied: pyyaml>=5.1 in /home/ec2-user/anaconda3/envs/amazonei_pytorch_latest_p37/lib/python3.7/site-packages (from transformers>=4.19.0->whisper==1.0) (5.4.1)\n",
      "Requirement already satisfied: nvidia-cublas-cu11==11.10.3.66 in /home/ec2-user/anaconda3/envs/amazonei_pytorch_latest_p37/lib/python3.7/site-packages (from torch->whisper==1.0) (11.10.3.66)\n",
      "Requirement already satisfied: nvidia-cuda-nvrtc-cu11==11.7.99 in /home/ec2-user/anaconda3/envs/amazonei_pytorch_latest_p37/lib/python3.7/site-packages (from torch->whisper==1.0) (11.7.99)\n",
      "Requirement already satisfied: typing-extensions in /home/ec2-user/anaconda3/envs/amazonei_pytorch_latest_p37/lib/python3.7/site-packages (from torch->whisper==1.0) (4.1.1)\n",
      "Requirement already satisfied: nvidia-cuda-runtime-cu11==11.7.99 in /home/ec2-user/anaconda3/envs/amazonei_pytorch_latest_p37/lib/python3.7/site-packages (from torch->whisper==1.0) (11.7.99)\n",
      "Requirement already satisfied: nvidia-cudnn-cu11==8.5.0.96 in /home/ec2-user/anaconda3/envs/amazonei_pytorch_latest_p37/lib/python3.7/site-packages (from torch->whisper==1.0) (8.5.0.96)\n",
      "Requirement already satisfied: setuptools in /home/ec2-user/anaconda3/envs/amazonei_pytorch_latest_p37/lib/python3.7/site-packages (from nvidia-cublas-cu11==11.10.3.66->torch->whisper==1.0) (60.10.0)\n",
      "Requirement already satisfied: wheel in /home/ec2-user/anaconda3/envs/amazonei_pytorch_latest_p37/lib/python3.7/site-packages (from nvidia-cublas-cu11==11.10.3.66->torch->whisper==1.0) (0.37.1)\n",
      "Requirement already satisfied: pyparsing!=3.0.5,>=2.0.2 in /home/ec2-user/anaconda3/envs/amazonei_pytorch_latest_p37/lib/python3.7/site-packages (from packaging>=20.0->transformers>=4.19.0->whisper==1.0) (3.0.7)\n",
      "Requirement already satisfied: zipp>=0.5 in /home/ec2-user/anaconda3/envs/amazonei_pytorch_latest_p37/lib/python3.7/site-packages (from importlib-metadata->transformers>=4.19.0->whisper==1.0) (3.7.0)\n",
      "Requirement already satisfied: charset-normalizer~=2.0.0 in /home/ec2-user/anaconda3/envs/amazonei_pytorch_latest_p37/lib/python3.7/site-packages (from requests->transformers>=4.19.0->whisper==1.0) (2.0.12)\n",
      "Requirement already satisfied: idna<4,>=2.5 in /home/ec2-user/anaconda3/envs/amazonei_pytorch_latest_p37/lib/python3.7/site-packages (from requests->transformers>=4.19.0->whisper==1.0) (3.3)\n",
      "Requirement already satisfied: certifi>=2017.4.17 in /home/ec2-user/anaconda3/envs/amazonei_pytorch_latest_p37/lib/python3.7/site-packages (from requests->transformers>=4.19.0->whisper==1.0) (2022.9.24)\n",
      "Requirement already satisfied: urllib3<1.27,>=1.21.1 in /home/ec2-user/anaconda3/envs/amazonei_pytorch_latest_p37/lib/python3.7/site-packages (from requests->transformers>=4.19.0->whisper==1.0) (1.26.13)\n",
      "Looking in indexes: https://pypi.org/simple, https://pip.repos.neuron.amazonaws.com\n",
      "Requirement already satisfied: srt in /home/ec2-user/anaconda3/envs/amazonei_pytorch_latest_p37/lib/python3.7/site-packages (3.5.2)\n",
      "Looking in indexes: https://pypi.org/simple, https://pip.repos.neuron.amazonaws.com\n",
      "Requirement already satisfied: yt-dlp in /home/ec2-user/anaconda3/envs/amazonei_pytorch_latest_p37/lib/python3.7/site-packages (2022.11.11)\n",
      "Requirement already satisfied: websockets in /home/ec2-user/anaconda3/envs/amazonei_pytorch_latest_p37/lib/python3.7/site-packages (from yt-dlp) (10.4)\n",
      "Requirement already satisfied: brotli in /home/ec2-user/anaconda3/envs/amazonei_pytorch_latest_p37/lib/python3.7/site-packages (from yt-dlp) (1.0.9)\n",
      "Requirement already satisfied: certifi in /home/ec2-user/anaconda3/envs/amazonei_pytorch_latest_p37/lib/python3.7/site-packages (from yt-dlp) (2022.9.24)\n",
      "Requirement already satisfied: mutagen in /home/ec2-user/anaconda3/envs/amazonei_pytorch_latest_p37/lib/python3.7/site-packages (from yt-dlp) (1.46.0)\n",
      "Requirement already satisfied: pycryptodomex in /home/ec2-user/anaconda3/envs/amazonei_pytorch_latest_p37/lib/python3.7/site-packages (from yt-dlp) (3.16.0)\n",
      "Looking in indexes: https://pypi.org/simple, https://pip.repos.neuron.amazonaws.com\n",
      "Requirement already satisfied: pyannote.audio in /home/ec2-user/anaconda3/envs/amazonei_pytorch_latest_p37/lib/python3.7/site-packages (2.1.1)\n",
      "Requirement already satisfied: einops<0.4.0,>=0.3 in /home/ec2-user/anaconda3/envs/amazonei_pytorch_latest_p37/lib/python3.7/site-packages (from pyannote.audio) (0.3.2)\n",
      "Requirement already satisfied: omegaconf<3.0,>=2.1 in /home/ec2-user/anaconda3/envs/amazonei_pytorch_latest_p37/lib/python3.7/site-packages (from pyannote.audio) (2.2.3)\n",
      "Requirement already satisfied: torch-audiomentations>=0.11.0 in /home/ec2-user/anaconda3/envs/amazonei_pytorch_latest_p37/lib/python3.7/site-packages (from pyannote.audio) (0.11.0)\n",
      "Requirement already satisfied: pytorch-lightning<1.7,>=1.5.4 in /home/ec2-user/anaconda3/envs/amazonei_pytorch_latest_p37/lib/python3.7/site-packages (from pyannote.audio) (1.6.5)\n",
      "Requirement already satisfied: backports.cached-property in /home/ec2-user/anaconda3/envs/amazonei_pytorch_latest_p37/lib/python3.7/site-packages (from pyannote.audio) (1.0.2)\n",
      "Requirement already satisfied: asteroid-filterbanks<0.5,>=0.4 in /home/ec2-user/anaconda3/envs/amazonei_pytorch_latest_p37/lib/python3.7/site-packages (from pyannote.audio) (0.4.0)\n",
      "Requirement already satisfied: torchaudio<1.0,>=0.10 in /home/ec2-user/anaconda3/envs/amazonei_pytorch_latest_p37/lib/python3.7/site-packages (from pyannote.audio) (0.13.0)\n",
      "Requirement already satisfied: typing-extensions in /home/ec2-user/anaconda3/envs/amazonei_pytorch_latest_p37/lib/python3.7/site-packages (from pyannote.audio) (4.1.1)\n",
      "Requirement already satisfied: networkx<3.0,>=2.6 in /home/ec2-user/anaconda3/envs/amazonei_pytorch_latest_p37/lib/python3.7/site-packages (from pyannote.audio) (2.6.3)\n",
      "Requirement already satisfied: hmmlearn<0.3,>=0.2.7 in /home/ec2-user/anaconda3/envs/amazonei_pytorch_latest_p37/lib/python3.7/site-packages (from pyannote.audio) (0.2.8)\n",
      "Requirement already satisfied: semver<3.0,>=2.10.2 in /home/ec2-user/anaconda3/envs/amazonei_pytorch_latest_p37/lib/python3.7/site-packages (from pyannote.audio) (2.13.0)\n",
      "Requirement already satisfied: torchmetrics<1.0,>=0.6 in /home/ec2-user/anaconda3/envs/amazonei_pytorch_latest_p37/lib/python3.7/site-packages (from pyannote.audio) (0.10.3)\n",
      "Requirement already satisfied: pyannote.database<5.0,>=4.1.1 in /home/ec2-user/anaconda3/envs/amazonei_pytorch_latest_p37/lib/python3.7/site-packages (from pyannote.audio) (4.1.3)\n",
      "Requirement already satisfied: torch>=1.9 in /home/ec2-user/anaconda3/envs/amazonei_pytorch_latest_p37/lib/python3.7/site-packages (from pyannote.audio) (1.13.0)\n",
      "Requirement already satisfied: soundfile<0.11,>=0.10.2 in /home/ec2-user/anaconda3/envs/amazonei_pytorch_latest_p37/lib/python3.7/site-packages (from pyannote.audio) (0.10.3.post1)\n",
      "Requirement already satisfied: singledispatchmethod in /home/ec2-user/anaconda3/envs/amazonei_pytorch_latest_p37/lib/python3.7/site-packages (from pyannote.audio) (1.0)\n",
      "Requirement already satisfied: pytorch-metric-learning<2.0,>=1.0.0 in /home/ec2-user/anaconda3/envs/amazonei_pytorch_latest_p37/lib/python3.7/site-packages (from pyannote.audio) (1.6.3)\n",
      "Requirement already satisfied: pyannote.metrics<4.0,>=3.2 in /home/ec2-user/anaconda3/envs/amazonei_pytorch_latest_p37/lib/python3.7/site-packages (from pyannote.audio) (3.2.1)\n",
      "Requirement already satisfied: speechbrain<0.6,>=0.5.12 in /home/ec2-user/anaconda3/envs/amazonei_pytorch_latest_p37/lib/python3.7/site-packages (from pyannote.audio) (0.5.13)\n",
      "Requirement already satisfied: pyannote.core<5.0,>=4.4 in /home/ec2-user/anaconda3/envs/amazonei_pytorch_latest_p37/lib/python3.7/site-packages (from pyannote.audio) (4.5)\n",
      "Requirement already satisfied: huggingface-hub>=0.8.1 in /home/ec2-user/anaconda3/envs/amazonei_pytorch_latest_p37/lib/python3.7/site-packages (from pyannote.audio) (0.11.1)\n",
      "Requirement already satisfied: pyannote.pipeline<3.0,>=2.3 in /home/ec2-user/anaconda3/envs/amazonei_pytorch_latest_p37/lib/python3.7/site-packages (from pyannote.audio) (2.3)\n",
      "Requirement already satisfied: numpy in /home/ec2-user/anaconda3/envs/amazonei_pytorch_latest_p37/lib/python3.7/site-packages (from asteroid-filterbanks<0.5,>=0.4->pyannote.audio) (1.21.6)\n",
      "Requirement already satisfied: scipy>=0.19 in /home/ec2-user/anaconda3/envs/amazonei_pytorch_latest_p37/lib/python3.7/site-packages (from hmmlearn<0.3,>=0.2.7->pyannote.audio) (1.7.3)\n",
      "Requirement already satisfied: scikit-learn>=0.16 in /home/ec2-user/anaconda3/envs/amazonei_pytorch_latest_p37/lib/python3.7/site-packages (from hmmlearn<0.3,>=0.2.7->pyannote.audio) (1.0.2)\n"
     ]
    },
    {
     "name": "stdout",
     "output_type": "stream",
     "text": [
      "Requirement already satisfied: tqdm in /home/ec2-user/anaconda3/envs/amazonei_pytorch_latest_p37/lib/python3.7/site-packages (from huggingface-hub>=0.8.1->pyannote.audio) (4.63.0)\n",
      "Requirement already satisfied: importlib-metadata in /home/ec2-user/anaconda3/envs/amazonei_pytorch_latest_p37/lib/python3.7/site-packages (from huggingface-hub>=0.8.1->pyannote.audio) (4.11.3)\n",
      "Requirement already satisfied: pyyaml>=5.1 in /home/ec2-user/anaconda3/envs/amazonei_pytorch_latest_p37/lib/python3.7/site-packages (from huggingface-hub>=0.8.1->pyannote.audio) (5.4.1)\n",
      "Requirement already satisfied: filelock in /home/ec2-user/anaconda3/envs/amazonei_pytorch_latest_p37/lib/python3.7/site-packages (from huggingface-hub>=0.8.1->pyannote.audio) (3.6.0)\n",
      "Requirement already satisfied: requests in /home/ec2-user/anaconda3/envs/amazonei_pytorch_latest_p37/lib/python3.7/site-packages (from huggingface-hub>=0.8.1->pyannote.audio) (2.27.1)\n",
      "Requirement already satisfied: packaging>=20.9 in /home/ec2-user/anaconda3/envs/amazonei_pytorch_latest_p37/lib/python3.7/site-packages (from huggingface-hub>=0.8.1->pyannote.audio) (21.3)\n",
      "Requirement already satisfied: antlr4-python3-runtime==4.9.* in /home/ec2-user/anaconda3/envs/amazonei_pytorch_latest_p37/lib/python3.7/site-packages (from omegaconf<3.0,>=2.1->pyannote.audio) (4.9.3)\n",
      "Requirement already satisfied: sortedcontainers>=2.0.4 in /home/ec2-user/anaconda3/envs/amazonei_pytorch_latest_p37/lib/python3.7/site-packages (from pyannote.core<5.0,>=4.4->pyannote.audio) (2.4.0)\n",
      "Requirement already satisfied: simplejson>=3.8.1 in /home/ec2-user/anaconda3/envs/amazonei_pytorch_latest_p37/lib/python3.7/site-packages (from pyannote.core<5.0,>=4.4->pyannote.audio) (3.18.0)\n",
      "Requirement already satisfied: pandas>=0.19 in /home/ec2-user/anaconda3/envs/amazonei_pytorch_latest_p37/lib/python3.7/site-packages (from pyannote.database<5.0,>=4.1.1->pyannote.audio) (1.3.5)\n",
      "Requirement already satisfied: typer[all]>=0.2.1 in /home/ec2-user/anaconda3/envs/amazonei_pytorch_latest_p37/lib/python3.7/site-packages (from pyannote.database<5.0,>=4.1.1->pyannote.audio) (0.7.0)\n",
      "Requirement already satisfied: matplotlib>=2.0.0 in /home/ec2-user/anaconda3/envs/amazonei_pytorch_latest_p37/lib/python3.7/site-packages (from pyannote.metrics<4.0,>=3.2->pyannote.audio) (3.5.1)\n",
      "Requirement already satisfied: sympy>=1.1 in /home/ec2-user/anaconda3/envs/amazonei_pytorch_latest_p37/lib/python3.7/site-packages (from pyannote.metrics<4.0,>=3.2->pyannote.audio) (1.10.1)\n",
      "Requirement already satisfied: docopt>=0.6.2 in /home/ec2-user/anaconda3/envs/amazonei_pytorch_latest_p37/lib/python3.7/site-packages (from pyannote.metrics<4.0,>=3.2->pyannote.audio) (0.6.2)\n",
      "Requirement already satisfied: tabulate>=0.7.7 in /home/ec2-user/anaconda3/envs/amazonei_pytorch_latest_p37/lib/python3.7/site-packages (from pyannote.metrics<4.0,>=3.2->pyannote.audio) (0.9.0)\n",
      "Requirement already satisfied: optuna>=1.4 in /home/ec2-user/anaconda3/envs/amazonei_pytorch_latest_p37/lib/python3.7/site-packages (from pyannote.pipeline<3.0,>=2.3->pyannote.audio) (3.0.3)\n",
      "Requirement already satisfied: protobuf<=3.20.1 in /home/ec2-user/anaconda3/envs/amazonei_pytorch_latest_p37/lib/python3.7/site-packages (from pytorch-lightning<1.7,>=1.5.4->pyannote.audio) (3.19.4)\n",
      "Requirement already satisfied: tensorboard>=2.2.0 in /home/ec2-user/anaconda3/envs/amazonei_pytorch_latest_p37/lib/python3.7/site-packages (from pytorch-lightning<1.7,>=1.5.4->pyannote.audio) (2.11.0)\n",
      "Requirement already satisfied: pyDeprecate>=0.3.1 in /home/ec2-user/anaconda3/envs/amazonei_pytorch_latest_p37/lib/python3.7/site-packages (from pytorch-lightning<1.7,>=1.5.4->pyannote.audio) (0.3.2)\n",
      "Requirement already satisfied: fsspec[http]!=2021.06.0,>=2021.05.0 in /home/ec2-user/anaconda3/envs/amazonei_pytorch_latest_p37/lib/python3.7/site-packages (from pytorch-lightning<1.7,>=1.5.4->pyannote.audio) (2022.2.0)\n",
      "Requirement already satisfied: torchvision in /home/ec2-user/anaconda3/envs/amazonei_pytorch_latest_p37/lib/python3.7/site-packages (from pytorch-metric-learning<2.0,>=1.0.0->pyannote.audio) (0.14.0)\n",
      "Requirement already satisfied: cffi>=1.0 in /home/ec2-user/anaconda3/envs/amazonei_pytorch_latest_p37/lib/python3.7/site-packages (from soundfile<0.11,>=0.10.2->pyannote.audio) (1.15.0)\n",
      "Requirement already satisfied: sentencepiece in /home/ec2-user/anaconda3/envs/amazonei_pytorch_latest_p37/lib/python3.7/site-packages (from speechbrain<0.6,>=0.5.12->pyannote.audio) (0.1.97)\n",
      "Requirement already satisfied: joblib in /home/ec2-user/anaconda3/envs/amazonei_pytorch_latest_p37/lib/python3.7/site-packages (from speechbrain<0.6,>=0.5.12->pyannote.audio) (1.1.0)\n",
      "Requirement already satisfied: hyperpyyaml in /home/ec2-user/anaconda3/envs/amazonei_pytorch_latest_p37/lib/python3.7/site-packages (from speechbrain<0.6,>=0.5.12->pyannote.audio) (1.1.0)\n",
      "Requirement already satisfied: nvidia-cuda-nvrtc-cu11==11.7.99 in /home/ec2-user/anaconda3/envs/amazonei_pytorch_latest_p37/lib/python3.7/site-packages (from torch>=1.9->pyannote.audio) (11.7.99)\n",
      "Requirement already satisfied: nvidia-cublas-cu11==11.10.3.66 in /home/ec2-user/anaconda3/envs/amazonei_pytorch_latest_p37/lib/python3.7/site-packages (from torch>=1.9->pyannote.audio) (11.10.3.66)\n",
      "Requirement already satisfied: nvidia-cuda-runtime-cu11==11.7.99 in /home/ec2-user/anaconda3/envs/amazonei_pytorch_latest_p37/lib/python3.7/site-packages (from torch>=1.9->pyannote.audio) (11.7.99)\n",
      "Requirement already satisfied: nvidia-cudnn-cu11==8.5.0.96 in /home/ec2-user/anaconda3/envs/amazonei_pytorch_latest_p37/lib/python3.7/site-packages (from torch>=1.9->pyannote.audio) (8.5.0.96)\n",
      "Requirement already satisfied: setuptools in /home/ec2-user/anaconda3/envs/amazonei_pytorch_latest_p37/lib/python3.7/site-packages (from nvidia-cublas-cu11==11.10.3.66->torch>=1.9->pyannote.audio) (60.10.0)\n",
      "Requirement already satisfied: wheel in /home/ec2-user/anaconda3/envs/amazonei_pytorch_latest_p37/lib/python3.7/site-packages (from nvidia-cublas-cu11==11.10.3.66->torch>=1.9->pyannote.audio) (0.37.1)\n",
      "Requirement already satisfied: julius<0.3,>=0.2.3 in /home/ec2-user/anaconda3/envs/amazonei_pytorch_latest_p37/lib/python3.7/site-packages (from torch-audiomentations>=0.11.0->pyannote.audio) (0.2.7)\n",
      "Requirement already satisfied: torch-pitch-shift>=1.2.2 in /home/ec2-user/anaconda3/envs/amazonei_pytorch_latest_p37/lib/python3.7/site-packages (from torch-audiomentations>=0.11.0->pyannote.audio) (1.2.2)\n",
      "Requirement already satisfied: librosa>=0.6.0 in /home/ec2-user/anaconda3/envs/amazonei_pytorch_latest_p37/lib/python3.7/site-packages (from torch-audiomentations>=0.11.0->pyannote.audio) (0.9.2)\n",
      "Requirement already satisfied: pycparser in /home/ec2-user/anaconda3/envs/amazonei_pytorch_latest_p37/lib/python3.7/site-packages (from cffi>=1.0->soundfile<0.11,>=0.10.2->pyannote.audio) (2.21)\n",
      "Requirement already satisfied: aiohttp in /home/ec2-user/anaconda3/envs/amazonei_pytorch_latest_p37/lib/python3.7/site-packages (from fsspec[http]!=2021.06.0,>=2021.05.0->pytorch-lightning<1.7,>=1.5.4->pyannote.audio) (3.8.1)\n",
      "Requirement already satisfied: resampy>=0.2.2 in /home/ec2-user/anaconda3/envs/amazonei_pytorch_latest_p37/lib/python3.7/site-packages (from librosa>=0.6.0->torch-audiomentations>=0.11.0->pyannote.audio) (0.4.2)\n",
      "Requirement already satisfied: numba>=0.45.1 in /home/ec2-user/anaconda3/envs/amazonei_pytorch_latest_p37/lib/python3.7/site-packages (from librosa>=0.6.0->torch-audiomentations>=0.11.0->pyannote.audio) (0.55.1)\n",
      "Requirement already satisfied: pooch>=1.0 in /home/ec2-user/anaconda3/envs/amazonei_pytorch_latest_p37/lib/python3.7/site-packages (from librosa>=0.6.0->torch-audiomentations>=0.11.0->pyannote.audio) (1.6.0)\n",
      "Requirement already satisfied: decorator>=4.0.10 in /home/ec2-user/anaconda3/envs/amazonei_pytorch_latest_p37/lib/python3.7/site-packages (from librosa>=0.6.0->torch-audiomentations>=0.11.0->pyannote.audio) (5.1.1)\n",
      "Requirement already satisfied: audioread>=2.1.9 in /home/ec2-user/anaconda3/envs/amazonei_pytorch_latest_p37/lib/python3.7/site-packages (from librosa>=0.6.0->torch-audiomentations>=0.11.0->pyannote.audio) (3.0.0)\n",
      "Requirement already satisfied: pyparsing>=2.2.1 in /home/ec2-user/anaconda3/envs/amazonei_pytorch_latest_p37/lib/python3.7/site-packages (from matplotlib>=2.0.0->pyannote.metrics<4.0,>=3.2->pyannote.audio) (3.0.7)\n",
      "Requirement already satisfied: cycler>=0.10 in /home/ec2-user/anaconda3/envs/amazonei_pytorch_latest_p37/lib/python3.7/site-packages (from matplotlib>=2.0.0->pyannote.metrics<4.0,>=3.2->pyannote.audio) (0.11.0)\n",
      "Requirement already satisfied: fonttools>=4.22.0 in /home/ec2-user/anaconda3/envs/amazonei_pytorch_latest_p37/lib/python3.7/site-packages (from matplotlib>=2.0.0->pyannote.metrics<4.0,>=3.2->pyannote.audio) (4.31.1)\n",
      "Requirement already satisfied: pillow>=6.2.0 in /home/ec2-user/anaconda3/envs/amazonei_pytorch_latest_p37/lib/python3.7/site-packages (from matplotlib>=2.0.0->pyannote.metrics<4.0,>=3.2->pyannote.audio) (9.0.1)\n",
      "Requirement already satisfied: kiwisolver>=1.0.1 in /home/ec2-user/anaconda3/envs/amazonei_pytorch_latest_p37/lib/python3.7/site-packages (from matplotlib>=2.0.0->pyannote.metrics<4.0,>=3.2->pyannote.audio) (1.4.0)\n",
      "Requirement already satisfied: python-dateutil>=2.7 in /home/ec2-user/anaconda3/envs/amazonei_pytorch_latest_p37/lib/python3.7/site-packages (from matplotlib>=2.0.0->pyannote.metrics<4.0,>=3.2->pyannote.audio) (2.8.2)\n"
     ]
    },
    {
     "name": "stdout",
     "output_type": "stream",
     "text": [
      "Requirement already satisfied: colorlog in /home/ec2-user/anaconda3/envs/amazonei_pytorch_latest_p37/lib/python3.7/site-packages (from optuna>=1.4->pyannote.pipeline<3.0,>=2.3->pyannote.audio) (6.7.0)\n",
      "Requirement already satisfied: sqlalchemy>=1.3.0 in /home/ec2-user/anaconda3/envs/amazonei_pytorch_latest_p37/lib/python3.7/site-packages (from optuna>=1.4->pyannote.pipeline<3.0,>=2.3->pyannote.audio) (1.4.44)\n",
      "Requirement already satisfied: cmaes>=0.8.2 in /home/ec2-user/anaconda3/envs/amazonei_pytorch_latest_p37/lib/python3.7/site-packages (from optuna>=1.4->pyannote.pipeline<3.0,>=2.3->pyannote.audio) (0.9.0)\n",
      "Requirement already satisfied: cliff in /home/ec2-user/anaconda3/envs/amazonei_pytorch_latest_p37/lib/python3.7/site-packages (from optuna>=1.4->pyannote.pipeline<3.0,>=2.3->pyannote.audio) (3.10.1)\n",
      "Requirement already satisfied: alembic>=1.5.0 in /home/ec2-user/anaconda3/envs/amazonei_pytorch_latest_p37/lib/python3.7/site-packages (from optuna>=1.4->pyannote.pipeline<3.0,>=2.3->pyannote.audio) (1.8.1)\n",
      "Requirement already satisfied: zipp>=0.5 in /home/ec2-user/anaconda3/envs/amazonei_pytorch_latest_p37/lib/python3.7/site-packages (from importlib-metadata->huggingface-hub>=0.8.1->pyannote.audio) (3.7.0)\n",
      "Requirement already satisfied: pytz>=2017.3 in /home/ec2-user/anaconda3/envs/amazonei_pytorch_latest_p37/lib/python3.7/site-packages (from pandas>=0.19->pyannote.database<5.0,>=4.1.1->pyannote.audio) (2021.3)\n",
      "Requirement already satisfied: threadpoolctl>=2.0.0 in /home/ec2-user/anaconda3/envs/amazonei_pytorch_latest_p37/lib/python3.7/site-packages (from scikit-learn>=0.16->hmmlearn<0.3,>=0.2.7->pyannote.audio) (3.1.0)\n",
      "Requirement already satisfied: mpmath>=0.19 in /home/ec2-user/anaconda3/envs/amazonei_pytorch_latest_p37/lib/python3.7/site-packages (from sympy>=1.1->pyannote.metrics<4.0,>=3.2->pyannote.audio) (1.2.1)\n",
      "Requirement already satisfied: google-auth-oauthlib<0.5,>=0.4.1 in /home/ec2-user/anaconda3/envs/amazonei_pytorch_latest_p37/lib/python3.7/site-packages (from tensorboard>=2.2.0->pytorch-lightning<1.7,>=1.5.4->pyannote.audio) (0.4.6)\n",
      "Requirement already satisfied: google-auth<3,>=1.6.3 in /home/ec2-user/anaconda3/envs/amazonei_pytorch_latest_p37/lib/python3.7/site-packages (from tensorboard>=2.2.0->pytorch-lightning<1.7,>=1.5.4->pyannote.audio) (2.14.1)\n",
      "Requirement already satisfied: tensorboard-data-server<0.7.0,>=0.6.0 in /home/ec2-user/anaconda3/envs/amazonei_pytorch_latest_p37/lib/python3.7/site-packages (from tensorboard>=2.2.0->pytorch-lightning<1.7,>=1.5.4->pyannote.audio) (0.6.1)\n",
      "Requirement already satisfied: grpcio>=1.24.3 in /home/ec2-user/anaconda3/envs/amazonei_pytorch_latest_p37/lib/python3.7/site-packages (from tensorboard>=2.2.0->pytorch-lightning<1.7,>=1.5.4->pyannote.audio) (1.51.1)\n",
      "Requirement already satisfied: absl-py>=0.4 in /home/ec2-user/anaconda3/envs/amazonei_pytorch_latest_p37/lib/python3.7/site-packages (from tensorboard>=2.2.0->pytorch-lightning<1.7,>=1.5.4->pyannote.audio) (1.3.0)\n",
      "Requirement already satisfied: markdown>=2.6.8 in /home/ec2-user/anaconda3/envs/amazonei_pytorch_latest_p37/lib/python3.7/site-packages (from tensorboard>=2.2.0->pytorch-lightning<1.7,>=1.5.4->pyannote.audio) (3.4.1)\n",
      "Requirement already satisfied: werkzeug>=1.0.1 in /home/ec2-user/anaconda3/envs/amazonei_pytorch_latest_p37/lib/python3.7/site-packages (from tensorboard>=2.2.0->pytorch-lightning<1.7,>=1.5.4->pyannote.audio) (2.0.3)\n",
      "Requirement already satisfied: tensorboard-plugin-wit>=1.6.0 in /home/ec2-user/anaconda3/envs/amazonei_pytorch_latest_p37/lib/python3.7/site-packages (from tensorboard>=2.2.0->pytorch-lightning<1.7,>=1.5.4->pyannote.audio) (1.8.1)\n",
      "Requirement already satisfied: urllib3<1.27,>=1.21.1 in /home/ec2-user/anaconda3/envs/amazonei_pytorch_latest_p37/lib/python3.7/site-packages (from requests->huggingface-hub>=0.8.1->pyannote.audio) (1.26.13)\n",
      "Requirement already satisfied: certifi>=2017.4.17 in /home/ec2-user/anaconda3/envs/amazonei_pytorch_latest_p37/lib/python3.7/site-packages (from requests->huggingface-hub>=0.8.1->pyannote.audio) (2022.9.24)\n",
      "Requirement already satisfied: charset-normalizer~=2.0.0 in /home/ec2-user/anaconda3/envs/amazonei_pytorch_latest_p37/lib/python3.7/site-packages (from requests->huggingface-hub>=0.8.1->pyannote.audio) (2.0.12)\n",
      "Requirement already satisfied: idna<4,>=2.5 in /home/ec2-user/anaconda3/envs/amazonei_pytorch_latest_p37/lib/python3.7/site-packages (from requests->huggingface-hub>=0.8.1->pyannote.audio) (3.3)\n",
      "Requirement already satisfied: primePy>=1.3 in /home/ec2-user/anaconda3/envs/amazonei_pytorch_latest_p37/lib/python3.7/site-packages (from torch-pitch-shift>=1.2.2->torch-audiomentations>=0.11.0->pyannote.audio) (1.3)\n",
      "Requirement already satisfied: click<9.0.0,>=7.1.1 in /home/ec2-user/anaconda3/envs/amazonei_pytorch_latest_p37/lib/python3.7/site-packages (from typer[all]>=0.2.1->pyannote.database<5.0,>=4.1.1->pyannote.audio) (8.0.4)\n",
      "Requirement already satisfied: colorama<0.5.0,>=0.4.3 in /home/ec2-user/anaconda3/envs/amazonei_pytorch_latest_p37/lib/python3.7/site-packages (from typer[all]>=0.2.1->pyannote.database<5.0,>=4.1.1->pyannote.audio) (0.4.6)\n",
      "Requirement already satisfied: rich<13.0.0,>=10.11.0 in /home/ec2-user/anaconda3/envs/amazonei_pytorch_latest_p37/lib/python3.7/site-packages (from typer[all]>=0.2.1->pyannote.database<5.0,>=4.1.1->pyannote.audio) (12.6.0)\n",
      "Requirement already satisfied: shellingham<2.0.0,>=1.3.0 in /home/ec2-user/anaconda3/envs/amazonei_pytorch_latest_p37/lib/python3.7/site-packages (from typer[all]>=0.2.1->pyannote.database<5.0,>=4.1.1->pyannote.audio) (1.5.0)\n",
      "Requirement already satisfied: ruamel.yaml>=0.17.8 in /home/ec2-user/anaconda3/envs/amazonei_pytorch_latest_p37/lib/python3.7/site-packages (from hyperpyyaml->speechbrain<0.6,>=0.5.12->pyannote.audio) (0.17.21)\n",
      "Requirement already satisfied: Mako in /home/ec2-user/anaconda3/envs/amazonei_pytorch_latest_p37/lib/python3.7/site-packages (from alembic>=1.5.0->optuna>=1.4->pyannote.pipeline<3.0,>=2.3->pyannote.audio) (1.2.4)\n",
      "Requirement already satisfied: importlib-resources in /home/ec2-user/anaconda3/envs/amazonei_pytorch_latest_p37/lib/python3.7/site-packages (from alembic>=1.5.0->optuna>=1.4->pyannote.pipeline<3.0,>=2.3->pyannote.audio) (5.4.0)\n",
      "Requirement already satisfied: rsa<5,>=3.1.4 in /home/ec2-user/anaconda3/envs/amazonei_pytorch_latest_p37/lib/python3.7/site-packages (from google-auth<3,>=1.6.3->tensorboard>=2.2.0->pytorch-lightning<1.7,>=1.5.4->pyannote.audio) (4.7.2)\n",
      "Requirement already satisfied: six>=1.9.0 in /home/ec2-user/anaconda3/envs/amazonei_pytorch_latest_p37/lib/python3.7/site-packages (from google-auth<3,>=1.6.3->tensorboard>=2.2.0->pytorch-lightning<1.7,>=1.5.4->pyannote.audio) (1.16.0)\n",
      "Requirement already satisfied: cachetools<6.0,>=2.0.0 in /home/ec2-user/anaconda3/envs/amazonei_pytorch_latest_p37/lib/python3.7/site-packages (from google-auth<3,>=1.6.3->tensorboard>=2.2.0->pytorch-lightning<1.7,>=1.5.4->pyannote.audio) (5.2.0)\n",
      "Requirement already satisfied: pyasn1-modules>=0.2.1 in /home/ec2-user/anaconda3/envs/amazonei_pytorch_latest_p37/lib/python3.7/site-packages (from google-auth<3,>=1.6.3->tensorboard>=2.2.0->pytorch-lightning<1.7,>=1.5.4->pyannote.audio) (0.2.8)\n",
      "Requirement already satisfied: requests-oauthlib>=0.7.0 in /home/ec2-user/anaconda3/envs/amazonei_pytorch_latest_p37/lib/python3.7/site-packages (from google-auth-oauthlib<0.5,>=0.4.1->tensorboard>=2.2.0->pytorch-lightning<1.7,>=1.5.4->pyannote.audio) (1.3.1)\n",
      "Requirement already satisfied: llvmlite<0.39,>=0.38.0rc1 in /home/ec2-user/anaconda3/envs/amazonei_pytorch_latest_p37/lib/python3.7/site-packages (from numba>=0.45.1->librosa>=0.6.0->torch-audiomentations>=0.11.0->pyannote.audio) (0.38.0)\n",
      "Requirement already satisfied: appdirs>=1.3.0 in /home/ec2-user/anaconda3/envs/amazonei_pytorch_latest_p37/lib/python3.7/site-packages (from pooch>=1.0->librosa>=0.6.0->torch-audiomentations>=0.11.0->pyannote.audio) (1.4.4)\n",
      "Requirement already satisfied: commonmark<0.10.0,>=0.9.0 in /home/ec2-user/anaconda3/envs/amazonei_pytorch_latest_p37/lib/python3.7/site-packages (from rich<13.0.0,>=10.11.0->typer[all]>=0.2.1->pyannote.database<5.0,>=4.1.1->pyannote.audio) (0.9.1)\n",
      "Requirement already satisfied: pygments<3.0.0,>=2.6.0 in /home/ec2-user/anaconda3/envs/amazonei_pytorch_latest_p37/lib/python3.7/site-packages (from rich<13.0.0,>=10.11.0->typer[all]>=0.2.1->pyannote.database<5.0,>=4.1.1->pyannote.audio) (2.11.2)\n"
     ]
    },
    {
     "name": "stdout",
     "output_type": "stream",
     "text": [
      "Requirement already satisfied: ruamel.yaml.clib>=0.2.6 in /home/ec2-user/anaconda3/envs/amazonei_pytorch_latest_p37/lib/python3.7/site-packages (from ruamel.yaml>=0.17.8->hyperpyyaml->speechbrain<0.6,>=0.5.12->pyannote.audio) (0.2.7)\n",
      "Requirement already satisfied: greenlet!=0.4.17 in /home/ec2-user/anaconda3/envs/amazonei_pytorch_latest_p37/lib/python3.7/site-packages (from sqlalchemy>=1.3.0->optuna>=1.4->pyannote.pipeline<3.0,>=2.3->pyannote.audio) (2.0.1)\n",
      "Requirement already satisfied: aiosignal>=1.1.2 in /home/ec2-user/anaconda3/envs/amazonei_pytorch_latest_p37/lib/python3.7/site-packages (from aiohttp->fsspec[http]!=2021.06.0,>=2021.05.0->pytorch-lightning<1.7,>=1.5.4->pyannote.audio) (1.2.0)\n",
      "Requirement already satisfied: yarl<2.0,>=1.0 in /home/ec2-user/anaconda3/envs/amazonei_pytorch_latest_p37/lib/python3.7/site-packages (from aiohttp->fsspec[http]!=2021.06.0,>=2021.05.0->pytorch-lightning<1.7,>=1.5.4->pyannote.audio) (1.7.2)\n",
      "Requirement already satisfied: frozenlist>=1.1.1 in /home/ec2-user/anaconda3/envs/amazonei_pytorch_latest_p37/lib/python3.7/site-packages (from aiohttp->fsspec[http]!=2021.06.0,>=2021.05.0->pytorch-lightning<1.7,>=1.5.4->pyannote.audio) (1.3.0)\n",
      "Requirement already satisfied: attrs>=17.3.0 in /home/ec2-user/anaconda3/envs/amazonei_pytorch_latest_p37/lib/python3.7/site-packages (from aiohttp->fsspec[http]!=2021.06.0,>=2021.05.0->pytorch-lightning<1.7,>=1.5.4->pyannote.audio) (21.4.0)\n",
      "Requirement already satisfied: asynctest==0.13.0 in /home/ec2-user/anaconda3/envs/amazonei_pytorch_latest_p37/lib/python3.7/site-packages (from aiohttp->fsspec[http]!=2021.06.0,>=2021.05.0->pytorch-lightning<1.7,>=1.5.4->pyannote.audio) (0.13.0)\n",
      "Requirement already satisfied: async-timeout<5.0,>=4.0.0a3 in /home/ec2-user/anaconda3/envs/amazonei_pytorch_latest_p37/lib/python3.7/site-packages (from aiohttp->fsspec[http]!=2021.06.0,>=2021.05.0->pytorch-lightning<1.7,>=1.5.4->pyannote.audio) (4.0.2)\n",
      "Requirement already satisfied: multidict<7.0,>=4.5 in /home/ec2-user/anaconda3/envs/amazonei_pytorch_latest_p37/lib/python3.7/site-packages (from aiohttp->fsspec[http]!=2021.06.0,>=2021.05.0->pytorch-lightning<1.7,>=1.5.4->pyannote.audio) (6.0.2)\n",
      "Requirement already satisfied: stevedore>=2.0.1 in /home/ec2-user/anaconda3/envs/amazonei_pytorch_latest_p37/lib/python3.7/site-packages (from cliff->optuna>=1.4->pyannote.pipeline<3.0,>=2.3->pyannote.audio) (3.5.2)\n",
      "Requirement already satisfied: pbr!=2.1.0,>=2.0.0 in /home/ec2-user/anaconda3/envs/amazonei_pytorch_latest_p37/lib/python3.7/site-packages (from cliff->optuna>=1.4->pyannote.pipeline<3.0,>=2.3->pyannote.audio) (5.11.0)\n",
      "Requirement already satisfied: cmd2>=1.0.0 in /home/ec2-user/anaconda3/envs/amazonei_pytorch_latest_p37/lib/python3.7/site-packages (from cliff->optuna>=1.4->pyannote.pipeline<3.0,>=2.3->pyannote.audio) (2.4.2)\n",
      "Requirement already satisfied: PrettyTable>=0.7.2 in /home/ec2-user/anaconda3/envs/amazonei_pytorch_latest_p37/lib/python3.7/site-packages (from cliff->optuna>=1.4->pyannote.pipeline<3.0,>=2.3->pyannote.audio) (3.5.0)\n",
      "Requirement already satisfied: autopage>=0.4.0 in /home/ec2-user/anaconda3/envs/amazonei_pytorch_latest_p37/lib/python3.7/site-packages (from cliff->optuna>=1.4->pyannote.pipeline<3.0,>=2.3->pyannote.audio) (0.5.1)\n",
      "Requirement already satisfied: wcwidth>=0.1.7 in /home/ec2-user/anaconda3/envs/amazonei_pytorch_latest_p37/lib/python3.7/site-packages (from cmd2>=1.0.0->cliff->optuna>=1.4->pyannote.pipeline<3.0,>=2.3->pyannote.audio) (0.2.5)\n",
      "Requirement already satisfied: pyperclip>=1.6 in /home/ec2-user/anaconda3/envs/amazonei_pytorch_latest_p37/lib/python3.7/site-packages (from cmd2>=1.0.0->cliff->optuna>=1.4->pyannote.pipeline<3.0,>=2.3->pyannote.audio) (1.8.2)\n",
      "Requirement already satisfied: pyasn1<0.5.0,>=0.4.6 in /home/ec2-user/anaconda3/envs/amazonei_pytorch_latest_p37/lib/python3.7/site-packages (from pyasn1-modules>=0.2.1->google-auth<3,>=1.6.3->tensorboard>=2.2.0->pytorch-lightning<1.7,>=1.5.4->pyannote.audio) (0.4.8)\n",
      "Requirement already satisfied: oauthlib>=3.0.0 in /home/ec2-user/anaconda3/envs/amazonei_pytorch_latest_p37/lib/python3.7/site-packages (from requests-oauthlib>=0.7.0->google-auth-oauthlib<0.5,>=0.4.1->tensorboard>=2.2.0->pytorch-lightning<1.7,>=1.5.4->pyannote.audio) (3.2.2)\n",
      "Requirement already satisfied: MarkupSafe>=0.9.2 in /home/ec2-user/anaconda3/envs/amazonei_pytorch_latest_p37/lib/python3.7/site-packages (from Mako->alembic>=1.5.0->optuna>=1.4->pyannote.pipeline<3.0,>=2.3->pyannote.audio) (2.1.1)\n",
      "Looking in indexes: https://pypi.org/simple, https://pip.repos.neuron.amazonaws.com\n",
      "Requirement already satisfied: huggingface-hub in /home/ec2-user/anaconda3/envs/amazonei_pytorch_latest_p37/lib/python3.7/site-packages (0.11.1)\n",
      "Requirement already satisfied: typing-extensions>=3.7.4.3 in /home/ec2-user/anaconda3/envs/amazonei_pytorch_latest_p37/lib/python3.7/site-packages (from huggingface-hub) (4.1.1)\n",
      "Requirement already satisfied: importlib-metadata in /home/ec2-user/anaconda3/envs/amazonei_pytorch_latest_p37/lib/python3.7/site-packages (from huggingface-hub) (4.11.3)\n",
      "Requirement already satisfied: pyyaml>=5.1 in /home/ec2-user/anaconda3/envs/amazonei_pytorch_latest_p37/lib/python3.7/site-packages (from huggingface-hub) (5.4.1)\n",
      "Requirement already satisfied: requests in /home/ec2-user/anaconda3/envs/amazonei_pytorch_latest_p37/lib/python3.7/site-packages (from huggingface-hub) (2.27.1)\n",
      "Requirement already satisfied: filelock in /home/ec2-user/anaconda3/envs/amazonei_pytorch_latest_p37/lib/python3.7/site-packages (from huggingface-hub) (3.6.0)\n",
      "Requirement already satisfied: packaging>=20.9 in /home/ec2-user/anaconda3/envs/amazonei_pytorch_latest_p37/lib/python3.7/site-packages (from huggingface-hub) (21.3)\n",
      "Requirement already satisfied: tqdm in /home/ec2-user/anaconda3/envs/amazonei_pytorch_latest_p37/lib/python3.7/site-packages (from huggingface-hub) (4.63.0)\n",
      "Requirement already satisfied: pyparsing!=3.0.5,>=2.0.2 in /home/ec2-user/anaconda3/envs/amazonei_pytorch_latest_p37/lib/python3.7/site-packages (from packaging>=20.9->huggingface-hub) (3.0.7)\n",
      "Requirement already satisfied: zipp>=0.5 in /home/ec2-user/anaconda3/envs/amazonei_pytorch_latest_p37/lib/python3.7/site-packages (from importlib-metadata->huggingface-hub) (3.7.0)\n",
      "Requirement already satisfied: urllib3<1.27,>=1.21.1 in /home/ec2-user/anaconda3/envs/amazonei_pytorch_latest_p37/lib/python3.7/site-packages (from requests->huggingface-hub) (1.26.13)\n",
      "Requirement already satisfied: certifi>=2017.4.17 in /home/ec2-user/anaconda3/envs/amazonei_pytorch_latest_p37/lib/python3.7/site-packages (from requests->huggingface-hub) (2022.9.24)\n",
      "Requirement already satisfied: charset-normalizer~=2.0.0 in /home/ec2-user/anaconda3/envs/amazonei_pytorch_latest_p37/lib/python3.7/site-packages (from requests->huggingface-hub) (2.0.12)\n",
      "Requirement already satisfied: idna<4,>=2.5 in /home/ec2-user/anaconda3/envs/amazonei_pytorch_latest_p37/lib/python3.7/site-packages (from requests->huggingface-hub) (3.3)\n",
      "Looking in indexes: https://pypi.org/simple, https://pip.repos.neuron.amazonaws.com\n",
      "Requirement already satisfied: webvtt-py in /home/ec2-user/anaconda3/envs/amazonei_pytorch_latest_p37/lib/python3.7/site-packages (0.4.6)\n",
      "Requirement already satisfied: docopt in /home/ec2-user/anaconda3/envs/amazonei_pytorch_latest_p37/lib/python3.7/site-packages (from webvtt-py) (0.6.2)\n"
     ]
    }
   ],
   "source": [
    "!pip install pydub\n",
    "!pip install git+https://github.com/openai/whisper.git\n",
    "!pip install srt\n",
    "!pip install -U yt-dlp\n",
    "!pip install   pyannote.audio\n",
    "!pip install huggingface-hub\n",
    "!pip install -U webvtt-py\n",
    "!pip install -q onnxruntime"
   ]
  },
  {
   "cell_type": "code",
   "execution_count": 2,
   "id": "1270ea0e",
   "metadata": {},
   "outputs": [
    {
     "name": "stdout",
     "output_type": "stream",
     "text": [
      "Collecting package metadata (current_repodata.json): done\n",
      "Solving environment: done\n",
      "\n",
      "\n",
      "==> WARNING: A newer version of conda exists. <==\n",
      "  current version: 4.8.4\n",
      "  latest version: 22.9.0\n",
      "\n",
      "Please update conda by running\n",
      "\n",
      "    $ conda update -n base -c defaults conda\n",
      "\n",
      "\n",
      "\n",
      "# All requested packages already installed.\n",
      "\n"
     ]
    }
   ],
   "source": [
    "!echo y| conda install -c conda-forge ffmpeg"
   ]
  },
  {
   "cell_type": "markdown",
   "id": "4b7cfb2d",
   "metadata": {},
   "source": [
    "# 各種パラメーター設定"
   ]
  },
  {
   "cell_type": "code",
   "execution_count": 3,
   "id": "15c17ac7",
   "metadata": {
    "ExecuteTime": {
     "end_time": "2022-11-17T11:00:52.131140Z",
     "start_time": "2022-11-17T11:00:52.125961Z"
    }
   },
   "outputs": [],
   "source": [
    "target_id=\"shogi\"\n",
    "spacermilli = 0\n",
    "rawdata_folder_path = \"\"\n",
    "analysis_folder_path = \"\"\n",
    "rawdata_path = rawdata_folder_path+target_id+\".wav\"\n",
    "save_text_path = analysis_folder_path+target_id+\"_音声認識_whisper_with_vad.txt\"\n",
    "save_text_path0 = analysis_folder_path+target_id+\"speaker0_音声認識_whisper_with_vad.txt\"\n",
    "save_text_path1 = analysis_folder_path+target_id+\"speaker1_音声認識_whisper_with_vad.txt\"\n",
    "save_srt_path = analysis_folder_path+target_id+\"_音声認識_whisper_with_vad.srt\"\n",
    "#人の声が入っているかどうかを識別するパラメーター。　オーディオチャンク毎に確率が出る。デフォルトは0.5\n",
    "vad_threshold=0.4\n",
    "# 音声ファイルを分割するための閾値。大きくすればするほど、一つのファイルに複数の音声が入る。\n",
    "#whisperの処理性能的にある程度長めの音声で判定しているので、一つのファイルに複数の音声を詰め込むと処理性能が落ちる？\n",
    "#要実験\n",
    "chunk_threshold = 2\n",
    "#音声に対する感度を少し下げる（このワードを検知したら無視する可能性が高い）\n",
    "suppress_low = [\n",
    "    \"視聴\",\n",
    "    \"ご視聴\",\n",
    "]\n",
    "#音声に対する感度を大きく下げる\n",
    "suppress_high = [\n",
    "    \"ご視聴\",\n",
    "    \"視聴ありがとうございました\",\n",
    "    \"ご視聴ありがとうございました!\"\n",
    "    \"私はあなたを愛しています。\"\n",
    "]\n",
    "#音声に対する感度を大きく上げる\n",
    "promotion_high = [,]\n",
    "#whisperの試行回数\n",
    "max_attempts=1\n",
    "#whisperモデルで無音判定する閾値。高いほど1.0に近づくほど無音の可能性が高い。デフォルトは0.6\n",
    "no_speech_threshold= 0.7\n",
    "#whisperモデルで喋り声の判定する閾値。高いほど喋っている可能性が高い。デフォルト-1.0\n",
    "avg_logprob = -1.0\n",
    "# vad(voice acitivity detectorモデルのインストール)\n",
    "SAMPLING_RATE = 16000\n",
    "speakers_num=2"
   ]
  },
  {
   "cell_type": "markdown",
   "id": "9b55bf4b",
   "metadata": {},
   "source": [
    "# インポート"
   ]
  },
  {
   "cell_type": "code",
   "execution_count": 5,
   "id": "f8cac919",
   "metadata": {
    "ExecuteTime": {
     "end_time": "2022-11-17T11:00:55.144706Z",
     "start_time": "2022-11-17T11:00:52.132192Z"
    }
   },
   "outputs": [],
   "source": [
    "from srt import Subtitle\n",
    "from pydub import AudioSegment\n",
    "import srt\n",
    "import whisper\n",
    "from IPython.display import Audio\n",
    "from pprint import pprint\n",
    "from tqdm import tqdm\n",
    "import datetime\n",
    "import whisper\n",
    "import os\n",
    "import re\n",
    "from datetime import timedelta\n",
    "import torch\n",
    "from pyannote.audio import Pipeline"
   ]
  },
  {
   "cell_type": "code",
   "execution_count": 6,
   "id": "4cf2f488",
   "metadata": {},
   "outputs": [
    {
     "name": "stdout",
     "output_type": "stream",
     "text": [
      "True\n"
     ]
    }
   ],
   "source": [
    "import torch\n",
    "print(torch.cuda.is_available())"
   ]
  },
  {
   "cell_type": "code",
   "execution_count": 11,
   "id": "0207d31b",
   "metadata": {},
   "outputs": [
    {
     "name": "stdout",
     "output_type": "stream",
     "text": [
      "Token is valid.\n",
      "Your token has been saved in your configured git credential helpers (!aws).\n",
      "Your token has been saved to /home/ec2-user/.huggingface/token\n",
      "Login successful\n"
     ]
    }
   ],
   "source": [
    "from huggingface_hub import notebook_login\n",
    "notebook_login()"
   ]
  },
  {
   "cell_type": "code",
   "execution_count": 8,
   "id": "3c1585e9",
   "metadata": {
    "ExecuteTime": {
     "end_time": "2022-11-17T11:01:10.508126Z",
     "start_time": "2022-11-17T11:01:04.887280Z"
    }
   },
   "outputs": [
    {
     "name": "stderr",
     "output_type": "stream",
     "text": [
      "Downloading: \"https://github.com/snakers4/silero-vad/zipball/master\" to /home/ec2-user/.cache/torch/hub/master.zip\n"
     ]
    }
   ],
   "source": [
    "torch.set_num_threads(1)\n",
    "\n",
    "USE_ONNX = False \n",
    "model_vad, utils = torch.hub.load(repo_or_dir='snakers4/silero-vad',\n",
    "                                  model='silero_vad',\n",
    "                                  force_reload=True,\n",
    "                                  onnx=USE_ONNX)\n",
    "\n",
    "(get_speech_timestamps,\n",
    " save_audio,\n",
    " read_audio,\n",
    " VADIterator,\n",
    " collect_chunks) = utils    "
   ]
  },
  {
   "cell_type": "markdown",
   "id": "3ee436a0",
   "metadata": {},
   "source": [
    "# pyannoteによる話者分離"
   ]
  },
  {
   "cell_type": "code",
   "execution_count": 12,
   "id": "dde8af34",
   "metadata": {
    "scrolled": true
   },
   "outputs": [
    {
     "data": {
      "application/vnd.jupyter.widget-view+json": {
       "model_id": "07e344ab46fd4e1aba9672b423290b18",
       "version_major": 2,
       "version_minor": 0
      },
      "text/plain": [
       "Downloading:   0%|          | 0.00/500 [00:00<?, ?B/s]"
      ]
     },
     "metadata": {},
     "output_type": "display_data"
    },
    {
     "data": {
      "application/vnd.jupyter.widget-view+json": {
       "model_id": "22b61845458b48119e8dbb530898907b",
       "version_major": 2,
       "version_minor": 0
      },
      "text/plain": [
       "Downloading:   0%|          | 0.00/17.7M [00:00<?, ?B/s]"
      ]
     },
     "metadata": {},
     "output_type": "display_data"
    },
    {
     "data": {
      "application/vnd.jupyter.widget-view+json": {
       "model_id": "69ef7641abb54977a16a68b6cf7ad4f8",
       "version_major": 2,
       "version_minor": 0
      },
      "text/plain": [
       "Downloading:   0%|          | 0.00/318 [00:00<?, ?B/s]"
      ]
     },
     "metadata": {},
     "output_type": "display_data"
    },
    {
     "data": {
      "application/vnd.jupyter.widget-view+json": {
       "model_id": "2a51790351434dc1b27eb4c3af641d8f",
       "version_major": 2,
       "version_minor": 0
      },
      "text/plain": [
       "Downloading:   0%|          | 0.00/1.92k [00:00<?, ?B/s]"
      ]
     },
     "metadata": {},
     "output_type": "display_data"
    },
    {
     "data": {
      "application/vnd.jupyter.widget-view+json": {
       "model_id": "6064e8e3a39f4070860410f6c05139c8",
       "version_major": 2,
       "version_minor": 0
      },
      "text/plain": [
       "Downloading:   0%|          | 0.00/83.3M [00:00<?, ?B/s]"
      ]
     },
     "metadata": {},
     "output_type": "display_data"
    },
    {
     "data": {
      "application/vnd.jupyter.widget-view+json": {
       "model_id": "5b6db83b8d7542849b99ce94a84aa18c",
       "version_major": 2,
       "version_minor": 0
      },
      "text/plain": [
       "Downloading:   0%|          | 0.00/1.92k [00:00<?, ?B/s]"
      ]
     },
     "metadata": {},
     "output_type": "display_data"
    },
    {
     "data": {
      "application/vnd.jupyter.widget-view+json": {
       "model_id": "8032ceb71ab54782858f2546a5e06153",
       "version_major": 2,
       "version_minor": 0
      },
      "text/plain": [
       "Downloading:   0%|          | 0.00/5.53M [00:00<?, ?B/s]"
      ]
     },
     "metadata": {},
     "output_type": "display_data"
    },
    {
     "data": {
      "application/vnd.jupyter.widget-view+json": {
       "model_id": "d793c08de135449d8505e3cee2f51437",
       "version_major": 2,
       "version_minor": 0
      },
      "text/plain": [
       "Downloading:   0%|          | 0.00/129k [00:00<?, ?B/s]"
      ]
     },
     "metadata": {},
     "output_type": "display_data"
    }
   ],
   "source": [
    "pipeline = Pipeline.from_pretrained('pyannote/speaker-diarization', use_auth_token=True)"
   ]
  },
  {
   "cell_type": "code",
   "execution_count": 13,
   "id": "b4e50f2b",
   "metadata": {
    "ExecuteTime": {
     "end_time": "2022-11-17T11:01:15.132740Z",
     "start_time": "2022-11-17T11:01:10.509127Z"
    }
   },
   "outputs": [],
   "source": [
    "dz = pipeline(rawdata_path, num_speakers=speakers_num)  "
   ]
  },
  {
   "cell_type": "code",
   "execution_count": 14,
   "id": "43ae5fb2",
   "metadata": {},
   "outputs": [],
   "source": [
    "with open(target_id+\"_diarization.txt\", \"w\") as text_file:\n",
    "    text_file.write(str(dz))"
   ]
  },
  {
   "cell_type": "code",
   "execution_count": 15,
   "id": "18738432",
   "metadata": {},
   "outputs": [],
   "source": [
    "def millisec(timeStr):\n",
    "  spl = timeStr.split(\":\")\n",
    "  s = (int)((int(spl[0]) * 60 * 60 + int(spl[1]) * 60 + float(spl[2]) )* 1000)\n",
    "  return s"
   ]
  },
  {
   "cell_type": "markdown",
   "id": "99c5a8d0",
   "metadata": {},
   "source": [
    "# vadによる話し声の有無判定"
   ]
  },
  {
   "cell_type": "code",
   "execution_count": 17,
   "id": "4eea04bb",
   "metadata": {
    "ExecuteTime": {
     "end_time": "2022-11-17T11:14:54.729450Z",
     "start_time": "2022-11-17T11:01:15.133852Z"
    }
   },
   "outputs": [],
   "source": [
    "#タイムスタンプの作成\n",
    "sound_val = read_audio(rawdata_path, sampling_rate=SAMPLING_RATE)\n",
    "speech_timestamps = get_speech_timestamps(sound_val, model_vad, sampling_rate=SAMPLING_RATE, threshold=vad_threshold)\n",
    "#pprint(speech_timestamps)"
   ]
  },
  {
   "cell_type": "code",
   "execution_count": 18,
   "id": "0209b958",
   "metadata": {
    "ExecuteTime": {
     "end_time": "2022-11-17T11:14:54.739709Z",
     "start_time": "2022-11-17T11:14:54.732754Z"
    }
   },
   "outputs": [],
   "source": [
    "# 声の間がchunk_thresholdよりも長かったら音声ファイルを複数に分割する様にする。\n",
    "u = [[]]\n",
    "for i in range(len(speech_timestamps)):\n",
    "    if i > 0 and speech_timestamps[i][\"start\"] > speech_timestamps[i - 1][\"end\"] + (chunk_threshold * SAMPLING_RATE):\n",
    "        u.append([])\n",
    "    u[-1].append(speech_timestamps[i])"
   ]
  },
  {
   "cell_type": "code",
   "execution_count": 19,
   "id": "1b878d0c",
   "metadata": {
    "ExecuteTime": {
     "end_time": "2022-11-17T11:14:55.318368Z",
     "start_time": "2022-11-17T11:14:54.740840Z"
    }
   },
   "outputs": [],
   "source": [
    "# 人の声が入っている部分だけを抽出。\n",
    "#処理時間を短縮することができる\n",
    "for i in range(len(u)):\n",
    "    save_audio(\"vad_chunks_\" + str(i) + \".wav\",\n",
    "               collect_chunks(u[i], sound_val),\n",
    "               sampling_rate=SAMPLING_RATE,)"
   ]
  },
  {
   "cell_type": "code",
   "execution_count": 20,
   "id": "f27a63ef",
   "metadata": {
    "ExecuteTime": {
     "end_time": "2022-11-17T11:14:55.329211Z",
     "start_time": "2022-11-17T11:14:55.319379Z"
    }
   },
   "outputs": [],
   "source": [
    "# タイムスタンプを秒に変換\n",
    "for i in range(len(u)):\n",
    "    time = 0.0\n",
    "    offset = 0.0\n",
    "    for j in range(len(u[i])):\n",
    "        u[i][j][\"start\"] /= SAMPLING_RATE\n",
    "        u[i][j][\"end\"] /= SAMPLING_RATE\n",
    "        u[i][j][\"chunk_start\"] = time\n",
    "        time += u[i][j][\"end\"] - u[i][j][\"start\"]\n",
    "        u[i][j][\"chunk_end\"] = time\n",
    "        if j == 0:\n",
    "            offset += u[i][j][\"start\"]\n",
    "        else:\n",
    "            offset += u[i][j][\"start\"] - u[i][j - 1][\"end\"]\n",
    "        u[i][j][\"offset\"] = offset"
   ]
  },
  {
   "cell_type": "markdown",
   "id": "7e701e70",
   "metadata": {},
   "source": [
    "# whisperによる音声解析"
   ]
  },
  {
   "cell_type": "code",
   "execution_count": 21,
   "id": "f48b9f19",
   "metadata": {
    "ExecuteTime": {
     "end_time": "2022-11-17T11:15:07.596292Z",
     "start_time": "2022-11-17T11:14:55.334236Z"
    }
   },
   "outputs": [
    {
     "name": "stderr",
     "output_type": "stream",
     "text": [
      "100%|█████████████████████████████████████| 2.87G/2.87G [00:44<00:00, 69.9MiB/s]\n"
     ]
    }
   ],
   "source": [
    "mode_whisperl = whisper.load_model(\"large\")"
   ]
  },
  {
   "cell_type": "code",
   "execution_count": null,
   "id": "0ad69c2f",
   "metadata": {
    "ExecuteTime": {
     "end_time": "2022-11-17T16:16:42.748961Z",
     "start_time": "2022-11-17T11:15:07.604052Z"
    }
   },
   "outputs": [
    {
     "name": "stderr",
     "output_type": "stream",
     "text": [
      "  0%|          | 0/1 [00:00<?, ?it/s]\n",
      "  0%|          | 0/139620 [00:00<?, ?frames/s]\u001b[A\n",
      "  2%|▏         | 2598/139620 [00:05<05:04, 449.74frames/s]\u001b[A\n",
      "  4%|▍         | 5258/139620 [00:11<05:03, 442.69frames/s]\u001b[A\n",
      "  6%|▌         | 8248/139620 [00:18<04:45, 460.18frames/s]\u001b[A\n",
      "  8%|▊         | 10698/139620 [00:23<04:43, 453.96frames/s]\u001b[A\n",
      " 10%|▉         | 13438/139620 [00:28<04:25, 475.44frames/s]\u001b[A\n",
      " 12%|█▏        | 16158/139620 [00:34<04:17, 480.34frames/s]\u001b[A\n",
      " 14%|█▎        | 19118/139620 [00:38<03:47, 529.06frames/s]\u001b[A\n",
      " 16%|█▌        | 21818/139620 [00:44<03:43, 526.28frames/s]\u001b[A\n",
      " 18%|█▊        | 24618/139620 [00:50<03:49, 500.34frames/s]\u001b[A\n",
      " 20%|█▉        | 27318/139620 [00:57<04:06, 455.01frames/s]\u001b[A\n",
      " 22%|██▏       | 30118/139620 [01:03<04:01, 453.28frames/s]\u001b[A\n",
      " 24%|██▎       | 32918/139620 [01:08<03:34, 497.17frames/s]\u001b[A\n",
      " 26%|██▌       | 35818/139620 [01:13<03:25, 505.88frames/s]\u001b[A\n",
      " 28%|██▊       | 38618/139620 [01:19<03:22, 498.23frames/s]\u001b[A\n",
      " 30%|██▉       | 41518/139620 [01:25<03:21, 487.69frames/s]\u001b[A\n",
      " 32%|███▏      | 44118/139620 [01:31<03:17, 484.15frames/s]\u001b[A\n",
      " 34%|███▎      | 47018/139620 [01:37<03:16, 470.75frames/s]\u001b[A\n",
      " 36%|███▌      | 49718/139620 [01:43<03:15, 459.72frames/s]\u001b[A\n",
      " 38%|███▊      | 52518/139620 [01:49<03:05, 470.33frames/s]\u001b[A\n",
      " 40%|███▉      | 55218/139620 [01:55<03:03, 459.23frames/s]\u001b[A\n",
      " 41%|████▏     | 57918/139620 [02:02<03:02, 446.76frames/s]\u001b[A\n",
      " 43%|████▎     | 60418/139620 [02:07<02:57, 447.30frames/s]\u001b[A\n",
      " 45%|████▌     | 62918/139620 [02:13<02:49, 452.18frames/s]\u001b[A\n",
      " 47%|████▋     | 65818/139620 [02:20<02:48, 437.58frames/s]\u001b[A\n",
      " 49%|████▉     | 68618/139620 [02:26<02:41, 439.36frames/s]\u001b[A\n",
      " 51%|█████     | 71418/139620 [02:31<02:27, 462.82frames/s]\u001b[A\n",
      " 53%|█████▎    | 74118/139620 [02:37<02:17, 476.07frames/s]\u001b[A\n",
      " 55%|█████▍    | 76718/139620 [02:42<02:10, 482.40frames/s]\u001b[A\n",
      " 57%|█████▋    | 79618/139620 [02:49<02:09, 464.93frames/s]\u001b[A\n",
      " 59%|█████▉    | 82218/139620 [02:54<02:02, 469.87frames/s]\u001b[A\n",
      " 61%|██████    | 84918/139620 [03:00<01:58, 462.97frames/s]\u001b[A\n",
      " 63%|██████▎   | 87718/139620 [03:06<01:49, 474.04frames/s]\u001b[A\n",
      " 65%|██████▍   | 90618/139620 [03:12<01:44, 467.51frames/s]\u001b[A\n",
      " 67%|██████▋   | 93318/139620 [03:18<01:39, 464.14frames/s]\u001b[A\n",
      " 69%|██████▊   | 95818/139620 [03:23<01:33, 470.98frames/s]\u001b[A\n",
      " 71%|███████   | 98518/139620 [03:28<01:22, 498.97frames/s]\u001b[A\n",
      " 73%|███████▎  | 101318/139620 [03:33<01:13, 520.97frames/s]\u001b[A\n",
      " 75%|███████▍  | 104218/139620 [03:39<01:11, 493.98frames/s]\u001b[A\n",
      " 77%|███████▋  | 107018/139620 [03:46<01:10, 465.13frames/s]\u001b[A\n",
      " 79%|███████▊  | 109818/139620 [03:51<01:01, 484.55frames/s]\u001b[A\n",
      " 81%|████████  | 112618/139620 [03:56<00:53, 508.11frames/s]\u001b[A\n",
      " 83%|████████▎ | 115318/139620 [04:01<00:46, 518.37frames/s]\u001b[A\n",
      " 85%|████████▍ | 118118/139620 [04:07<00:42, 508.95frames/s]\u001b[A\n",
      " 87%|████████▋ | 120918/139620 [04:14<00:39, 471.51frames/s]\u001b[A\n",
      " 88%|████████▊ | 123518/139620 [04:20<00:35, 450.45frames/s]\u001b[A\n",
      " 90%|█████████ | 126218/139620 [04:25<00:27, 480.51frames/s]\u001b[A\n",
      " 92%|█████████▏| 129118/139620 [04:31<00:21, 478.95frames/s]\u001b[A\n",
      " 95%|█████████▍| 132018/139620 [04:37<00:16, 474.95frames/s]\u001b[A\n",
      " 97%|█████████▋| 134918/139620 [04:43<00:09, 471.43frames/s]\u001b[A\n",
      " 99%|█████████▊| 137618/139620 [04:51<00:04, 439.13frames/s]\u001b[A\n",
      "100%|█████████▉| 139218/139620 [04:55<00:00, 424.86frames/s]\u001b[A\n",
      "100%|██████████| 139620/139620 [04:56<00:00, 471.53frames/s]\u001b[A\n",
      "100%|██████████| 1/1 [04:57<00:00, 297.54s/it]\n"
     ]
    }
   ],
   "source": [
    "test_counter =0\n",
    "subs = []\n",
    "subs_text = []\n",
    "segment_info = []\n",
    "sub_index = 1\n",
    "for i in tqdm(range(len(u))):\n",
    "    line_buffer = []  # Used for DeepL\n",
    "    for x in range(max_attempts):\n",
    "        result = mode_whisperl.transcribe(\n",
    "            \"vad_chunks_\" + str(i) + \".wav\", \n",
    "            verbose=False, language=\"ja\",\n",
    "            no_speech_threshold=no_speech_threshold,temperature=0.2,\n",
    "        logprob_threshold=avg_logprob)\n",
    "        # Break if result doesn't end with severe hallucinations\n",
    "        if len(result[\"segments\"]) == 0:\n",
    "            break\n",
    "        elif result[\"segments\"][-1][\"end\"] < u[i][-1][\"chunk_end\"] + 10.0:\n",
    "            break\n",
    "        elif x+1 < max_attempts:\n",
    "            print(\"Retrying chunk\", i)\n",
    "    for r in result[\"segments\"]:\n",
    "        # Skip audio timestamped after the chunk has ended\n",
    "        if r[\"start\"] > u[i][-1][\"chunk_end\"]:\n",
    "            continue\n",
    "        # 特定のワード、フレーズに対して感度を調整\n",
    "        for s in suppress_low:\n",
    "            if s in r[\"text\"]:\n",
    "                r[\"avg_logprob\"] -= 0.30\n",
    "        for s in suppress_high:\n",
    "            if s in r[\"text\"]:\n",
    "                r[\"avg_logprob\"] -= 0.50\n",
    "        for s in promotion_high:\n",
    "            if s in r[\"text\"]:\n",
    "                r[\"avg_logprob\"] += 0.20\n",
    "         # Keep segment info for debugging\n",
    "        del r[\"tokens\"]\n",
    "        segment_info.append(r)\n",
    "        if r[\"avg_logprob\"] < avg_logprob or r[\"no_speech_prob\"] > no_speech_threshold:\n",
    "            #print(\"do_skip\")\n",
    "            continue\n",
    "        # セグメント情報を保持\n",
    "        segment_info.append(r)\n",
    "        # Set start timestamp\n",
    "        start = r[\"start\"] + u[i][0][\"offset\"]\n",
    "        for j in range(len(u[i])):\n",
    "            if (\n",
    "                r[\"start\"] >= u[i][j][\"chunk_start\"]\n",
    "                and r[\"start\"] <= u[i][j][\"chunk_end\"]\n",
    "            ):\n",
    "                start = r[\"start\"] + u[i][j][\"offset\"]\n",
    "                break\n",
    "        # subsの重複を避ける\n",
    "        if len(subs) > 0:\n",
    "            last_end = datetime.timedelta.total_seconds(subs[-1].end)\n",
    "            if last_end > start:\n",
    "                subs[-1].end = datetime.timedelta(seconds=start)\n",
    "        # タイムスタンプの終わりを判定\n",
    "        end = u[i][-1][\"end\"] + 0.5\n",
    "        for j in range(len(u[i])):\n",
    "            if r[\"end\"] >= u[i][j][\"chunk_start\"] and r[\"end\"] <= u[i][j][\"chunk_end\"]:\n",
    "                end = r[\"end\"] + u[i][j][\"offset\"]\n",
    "                break\n",
    "        # Add to SRT list\n",
    "        subs.append(\n",
    "            srt.Subtitle(\n",
    "                index=sub_index,\n",
    "                start=datetime.timedelta(seconds=start),\n",
    "                end=datetime.timedelta(seconds=end),\n",
    "                content=r[\"text\"].strip(),\n",
    "            )\n",
    "        )\n",
    "        subs_text.append(r[\"text\"].strip())\n",
    "        sub_index += 1"
   ]
  },
  {
   "cell_type": "markdown",
   "id": "955d1b5d",
   "metadata": {},
   "source": [
    "# whisperとpyaanoteの統合"
   ]
  },
  {
   "cell_type": "code",
   "execution_count": 49,
   "id": "0bc1a4bc",
   "metadata": {},
   "outputs": [
    {
     "name": "stdout",
     "output_type": "stream",
     "text": [
      "471\n",
      "処理が完了しました。\n",
      "471\n",
      "処理が完了しました。\n"
     ]
    }
   ],
   "source": [
    "#話者分類\n",
    "speaker_zero = []\n",
    "speaker_one= []\n",
    "counter=0\n",
    "#話はじめがpyaanoteにより分類された話時間の内のどちらに含まれるかで分類\n",
    "#厳密にやるならwhisper文字起こしの解析結果がpyaanoteで解析された話時間のどちらが長いか判定すれば良い\n",
    "for i in range(len(dzs)):\n",
    "    end_time = datetime.timedelta(hours= float(dzs[i][20:22]),\n",
    "                   minutes=float(dzs[i][23:25]),seconds=float(dzs[i][26:32]))\n",
    "    try:\n",
    "        if dzs[i][-10:]==\"SPEAKER_00\":\n",
    "            while subs[counter].start < end_time:\n",
    "                speaker_zero.append(subs[counter].content.strip())\n",
    "                counter += 1\n",
    "                #print(i,counter,\"SPEAKER_00\")\n",
    "        if dzs[i][-10:]==\"SPEAKER_01\":\n",
    "            while subs[counter].start < end_time:\n",
    "                speaker_one.append(subs[counter].content.strip())\n",
    "                counter += 1\n",
    "    except IndexError:\n",
    "        print(counter)\n",
    "        print('処理が完了しました。')"
   ]
  },
  {
   "cell_type": "code",
   "execution_count": 34,
   "id": "9ac74d1f",
   "metadata": {},
   "outputs": [],
   "source": [
    "#srtファイルの作成\n",
    "with open(save_srt_path, \"w\", encoding=\"utf8\") as f:\n",
    "    f.write(srt.compose(subs))\n",
    "#textファイルの作成\n",
    "with open(save_text_path, \"w\", encoding=\"utf8\") as f:\n",
    "    f.write(''.join(subs_text))"
   ]
  },
  {
   "cell_type": "code",
   "execution_count": 35,
   "id": "c542ad2a",
   "metadata": {
    "ExecuteTime": {
     "end_time": "2022-11-17T16:16:42.766206Z",
     "start_time": "2022-11-17T16:16:42.752481Z"
    }
   },
   "outputs": [],
   "source": [
    "# pyaanoteによる話者分離結果を記載\n",
    "with open(\"diarization.txt\", \"w\") as text_file:\n",
    "    text_file.write(str(dz))\n",
    "#話者1のファイルの作成\n",
    "with open(save_text_path0, \"w\", encoding=\"utf8\") as f:\n",
    "    f.write(''.join(speaker_zero))\n",
    "#話者1のファイルの作成    \n",
    "with open(save_text_path1, \"w\", encoding=\"utf8\") as f:\n",
    "    f.write(''.join(speaker_one))"
   ]
  },
  {
   "cell_type": "code",
   "execution_count": 36,
   "id": "63ed68b5",
   "metadata": {},
   "outputs": [
    {
     "name": "stdout",
     "output_type": "stream",
     "text": [
      "error\n"
     ]
    }
   ],
   "source": [
    "try:\n",
    "    for i in range(len(u)):\n",
    "        os.remove(\"vad_chunks_\" + str(i) + \".wav\")\n",
    "except:\n",
    "     print(\"error\")"
   ]
  },
  {
   "cell_type": "markdown",
   "id": "7dc73c16",
   "metadata": {},
   "source": [
    "# htmlファイルの作成"
   ]
  },
  {
   "cell_type": "code",
   "execution_count": 76,
   "id": "0ff55197",
   "metadata": {},
   "outputs": [],
   "source": [
    "preS = '<!DOCTYPE html><html lang=\"ja\">'\n",
    "postS = '\\t</body>\\n</html>'"
   ]
  },
  {
   "cell_type": "code",
   "execution_count": 77,
   "id": "0461f13e",
   "metadata": {},
   "outputs": [
    {
     "name": "stdout",
     "output_type": "stream",
     "text": [
      "['[ 00:00:00.548 -->  00:00:33.809] A SPEAKER_00']\n",
      "['[ 00:00:06.370 -->  00:00:08.462] EY SPEAKER_01']\n",
      "['[ 00:00:15.634 -->  00:00:18.638] EZ SPEAKER_01']\n",
      "['[ 00:00:22.739 -->  00:00:23.447] FA SPEAKER_01']\n",
      "['[ 00:00:27.582 -->  00:00:28.409] FB SPEAKER_01']\n",
      "['[ 00:00:32.813 -->  00:00:36.998] FC SPEAKER_01']\n",
      "['[ 00:00:35.125 -->  00:00:35.412] B SPEAKER_00']\n",
      "['[ 00:00:36.019 -->  00:00:36.188] C SPEAKER_00']\n",
      "['[ 00:00:36.998 -->  00:01:19.034] D SPEAKER_00']\n",
      "['[ 00:00:40.778 -->  00:00:42.364] FD SPEAKER_01']\n",
      "['[ 00:00:45.267 -->  00:00:46.954] FE SPEAKER_01']\n",
      "['[ 00:00:48.760 -->  00:00:52.759] FF SPEAKER_01']\n",
      "['[ 00:01:02.040 -->  00:01:02.935] FG SPEAKER_01']\n",
      "['[ 00:01:07.052 -->  00:01:09.567] FH SPEAKER_01']\n",
      "['[ 00:01:10.259 -->  00:01:13.330] FI SPEAKER_01']\n",
      "['[ 00:01:17.515 -->  00:01:18.460] FJ SPEAKER_01']\n",
      "['[ 00:01:20.029 -->  00:01:25.615] E SPEAKER_00', '[ 00:01:26.543 -->  00:02:06.452] F SPEAKER_00']\n",
      "['[ 00:02:02.335 -->  00:02:02.689] FK SPEAKER_01']\n",
      "['[ 00:02:08.950 -->  00:02:16.476] G SPEAKER_00']\n",
      "['[ 00:02:10.519 -->  00:02:25.538] FL SPEAKER_01']\n",
      "['[ 00:02:17.809 -->  00:02:19.632] H SPEAKER_00']\n",
      "['[ 00:02:23.226 -->  00:02:23.867] I SPEAKER_00']\n",
      "['[ 00:02:25.420 -->  00:02:52.673] J SPEAKER_00']\n",
      "['[ 00:02:29.723 -->  00:02:31.545] FM SPEAKER_01']\n",
      "['[ 00:02:45.704 -->  00:02:48.488] FN SPEAKER_01']\n",
      "['[ 00:02:50.817 -->  00:03:08.130] FO SPEAKER_01']\n",
      "['[ 00:02:55.980 -->  00:02:56.976] K SPEAKER_00']\n",
      "['[ 00:03:07.202 -->  00:03:07.725] L SPEAKER_00']\n",
      "['[ 00:03:08.822 -->  00:03:25.967] FP SPEAKER_01']\n",
      "['[ 00:03:12.484 -->  00:03:12.737] M SPEAKER_00']\n",
      "['[ 00:03:15.218 -->  00:03:17.749] N SPEAKER_00']\n",
      "['[ 00:03:18.863 -->  00:03:20.399] O SPEAKER_00']\n",
      "['[ 00:03:23.385 -->  00:03:25.461] P SPEAKER_00']\n",
      "['[ 00:03:27.098 -->  00:03:33.780] FQ SPEAKER_01']\n",
      "['[ 00:03:32.059 -->  00:03:38.961] Q SPEAKER_00']\n",
      "['[ 00:03:37.240 -->  00:04:34.699] FR SPEAKER_01']\n",
      "['[ 00:03:42.488 -->  00:03:44.125] R SPEAKER_00']\n",
      "['[ 00:03:46.740 -->  00:03:48.749] S SPEAKER_00']\n",
      "['[ 00:03:52.950 -->  00:03:58.350] T SPEAKER_00']\n",
      "['[ 00:03:59.076 -->  00:03:59.684] U SPEAKER_00']\n",
      "['[ 00:04:00.949 -->  00:04:03.312] V SPEAKER_00']\n",
      "['[ 00:04:06.636 -->  00:04:09.049] W SPEAKER_00']\n",
      "['[ 00:04:11.985 -->  00:04:15.040] X SPEAKER_00']\n",
      "['[ 00:04:20.085 -->  00:04:21.992] Y SPEAKER_00']\n",
      "['[ 00:04:25.283 -->  00:04:30.615] Z SPEAKER_00']\n",
      "['[ 00:04:31.695 -->  00:04:38.108] AA SPEAKER_00']\n",
      "['[ 00:04:36.792 -->  00:04:46.545] FS SPEAKER_01']\n",
      "['[ 00:04:41.061 -->  00:04:45.449] AB SPEAKER_00']\n",
      "['[ 00:04:47.625 -->  00:04:50.039] FT SPEAKER_01']\n",
      "['[ 00:04:47.811 -->  00:05:21.240] AC SPEAKER_00']\n",
      "['[ 00:04:50.680 -->  00:04:52.334] FU SPEAKER_01']\n",
      "['[ 00:04:59.303 -->  00:04:59.961] FV SPEAKER_01']\n",
      "['[ 00:05:05.699 -->  00:05:05.952] FW SPEAKER_01']\n",
      "['[ 00:05:13.005 -->  00:05:13.208] FX SPEAKER_01']\n",
      "['[ 00:05:18.085 -->  00:05:18.827] FY SPEAKER_01']\n",
      "['[ 00:05:19.469 -->  00:05:25.679] FZ SPEAKER_01']\n",
      "['[ 00:05:24.649 -->  00:05:24.919] AD SPEAKER_00']\n",
      "['[ 00:05:25.679 -->  00:05:33.441] AE SPEAKER_00']\n",
      "['[ 00:05:27.180 -->  00:05:28.986] GA SPEAKER_01']\n",
      "['[ 00:05:33.441 -->  00:06:00.407] GB SPEAKER_01']\n",
      "['[ 00:05:35.314 -->  00:05:37.457] AF SPEAKER_00']\n",
      "['[ 00:05:43.397 -->  00:05:44.629] AG SPEAKER_00']\n",
      "['[ 00:05:48.089 -->  00:05:48.105] AH SPEAKER_00']\n",
      "['[ 00:05:53.995 -->  00:05:57.842] AI SPEAKER_00']\n",
      "['[ 00:05:58.889 -->  00:05:59.462] AJ SPEAKER_00']\n",
      "['[ 00:06:00.610 -->  00:06:03.006] AK SPEAKER_00']\n",
      "['[ 00:06:04.221 -->  00:06:05.757] GC SPEAKER_01']\n",
      "['[ 00:06:05.757 -->  00:06:09.435] AL SPEAKER_00']\n",
      "['[ 00:06:09.435 -->  00:06:36.368] GD SPEAKER_01']\n",
      "['[ 00:06:14.565 -->  00:06:14.954] AM SPEAKER_00']\n",
      "['[ 00:06:16.489 -->  00:06:18.480] AN SPEAKER_00']\n",
      "['[ 00:06:20.539 -->  00:06:22.615] AO SPEAKER_00']\n",
      "['[ 00:06:24.235 -->  00:06:26.429] AP SPEAKER_00']\n",
      "['[ 00:06:27.306 -->  00:06:27.424] AQ SPEAKER_00']\n",
      "['[ 00:06:35.153 -->  00:06:35.457] AR SPEAKER_00']\n",
      "['[ 00:06:36.368 -->  00:06:42.730] AS SPEAKER_00']\n",
      "['[ 00:06:41.565 -->  00:06:55.032] GE SPEAKER_01']\n",
      "['[ 00:06:55.268 -->  00:06:56.736] AT SPEAKER_00']\n",
      "['[ 00:06:56.736 -->  00:07:06.945] GF SPEAKER_01']\n",
      "['[ 00:06:57.563 -->  00:06:58.710] AU SPEAKER_00']\n",
      "['[ 00:07:03.807 -->  00:07:04.920] AV SPEAKER_00']\n",
      "['[ 00:07:06.945 -->  00:07:16.682] AW SPEAKER_00']\n",
      "['[ 00:07:08.802 -->  00:07:12.666] GG SPEAKER_01']\n",
      "['[ 00:07:14.573 -->  00:07:39.329] GH SPEAKER_01']\n",
      "['[ 00:07:21.323 -->  00:07:23.449] AX SPEAKER_00']\n",
      "['[ 00:07:29.187 -->  00:07:32.427] AY SPEAKER_00']\n",
      "['[ 00:07:34.452 -->  00:07:34.536] AZ SPEAKER_00']\n",
      "['[ 00:07:37.405 -->  00:07:40.797] BA SPEAKER_00']\n",
      "['[ 00:07:41.235 -->  00:07:55.377] GI SPEAKER_01']\n",
      "['[ 00:07:44.982 -->  00:07:45.555] BB SPEAKER_00']\n",
      "['[ 00:07:46.230 -->  00:07:46.770] BC SPEAKER_00']\n",
      "['[ 00:07:48.002 -->  00:08:08.573] BD SPEAKER_00']\n",
      "['[ 00:07:59.393 -->  00:08:00.439] GJ SPEAKER_01']\n",
      "['[ 00:08:01.418 -->  00:08:10.868] GK SPEAKER_01']\n",
      "['[ 00:08:10.142 -->  00:08:27.338] BE SPEAKER_00']\n",
      "['[ 00:08:17.483 -->  00:08:17.550] GL SPEAKER_01']\n",
      "['[ 00:08:23.423 -->  00:09:52.101] GM SPEAKER_01']\n",
      "['[ 00:08:28.435 -->  00:08:28.452] BF SPEAKER_00']\n",
      "['[ 00:08:33.953 -->  00:08:35.286] BG SPEAKER_00']\n",
      "['[ 00:08:36.079 -->  00:08:38.948] BH SPEAKER_00']\n",
      "['[ 00:08:43.352 -->  00:08:43.808] BI SPEAKER_00']\n",
      "['[ 00:08:45.985 -->  00:08:46.019] BJ SPEAKER_00']\n",
      "['[ 00:08:49.984 -->  00:08:53.781] BK SPEAKER_00']\n",
      "['[ 00:08:55.266 -->  00:08:56.194] BL SPEAKER_00']\n",
      "['[ 00:08:56.937 -->  00:08:57.291] BM SPEAKER_00']\n",
      "['[ 00:09:01.493 -->  00:09:04.902] BN SPEAKER_00']\n",
      "['[ 00:09:06.522 -->  00:09:06.960] BO SPEAKER_00']\n",
      "['[ 00:09:20.747 -->  00:09:28.949] BP SPEAKER_00']\n",
      "['[ 00:09:39.985 -->  00:09:43.664] BQ SPEAKER_00']\n",
      "['[ 00:09:45.942 -->  00:10:12.959] BR SPEAKER_00']\n",
      "['[ 00:09:53.924 -->  00:09:56.016] GN SPEAKER_01']\n",
      "['[ 00:10:00.167 -->  00:10:02.378] GO SPEAKER_01']\n",
      "['[ 00:10:05.415 -->  00:10:07.795] GP SPEAKER_01']\n",
      "['[ 00:10:08.385 -->  00:10:08.740] GQ SPEAKER_01']\n",
      "['[ 00:10:11.187 -->  00:10:26.982] GR SPEAKER_01']\n",
      "['[ 00:10:16.553 -->  00:10:16.722] BS SPEAKER_00']\n",
      "['[ 00:10:27.640 -->  00:10:49.020] GS SPEAKER_01']\n",
      "['[ 00:10:31.487 -->  00:10:32.618] BT SPEAKER_00']\n",
      "['[ 00:10:39.216 -->  00:10:39.452] BU SPEAKER_00']\n",
      "['[ 00:10:44.734 -->  00:10:45.949] BV SPEAKER_00']\n",
      "['[ 00:10:49.071 -->  00:10:50.269] BW SPEAKER_00']\n",
      "['[ 00:10:50.910 -->  00:11:02.757] GT SPEAKER_01']\n",
      "['[ 00:10:51.012 -->  00:10:55.956] BX SPEAKER_00']\n",
      "['[ 00:11:02.757 -->  00:11:03.651] BY SPEAKER_00']\n",
      "['[ 00:11:03.651 -->  00:11:11.717] GU SPEAKER_01']\n",
      "['[ 00:11:07.920 -->  00:11:09.591] BZ SPEAKER_00']\n",
      "['[ 00:11:12.072 -->  00:11:22.399] CA SPEAKER_00']\n",
      "['[ 00:11:21.910 -->  00:11:27.749] GV SPEAKER_01']\n",
      "['[ 00:11:26.449 -->  00:11:26.955] CB SPEAKER_00']\n",
      "['[ 00:11:27.715 -->  00:11:54.445] CC SPEAKER_00']\n",
      "['[ 00:11:34.229 -->  00:11:34.954] GW SPEAKER_01']\n",
      "['[ 00:11:36.287 -->  00:11:38.515] GX SPEAKER_01']\n",
      "['[ 00:11:42.329 -->  00:11:43.898] GY SPEAKER_01']\n",
      "['[ 00:11:48.927 -->  00:11:59.558] GZ SPEAKER_01', '[ 00:12:00.672 -->  00:12:14.796] HA SPEAKER_01']\n",
      "['[ 00:12:04.536 -->  00:12:05.245] CD SPEAKER_00']\n",
      "['[ 00:12:14.594 -->  00:12:26.052] CE SPEAKER_00']\n",
      "['[ 00:12:24.938 -->  00:13:33.535] HB SPEAKER_01']\n",
      "['[ 00:12:32.532 -->  00:12:32.768] CF SPEAKER_00']\n",
      "['[ 00:12:34.860 -->  00:12:35.957] CG SPEAKER_00']\n",
      "['[ 00:12:37.290 -->  00:12:38.151] CH SPEAKER_00']\n",
      "['[ 00:12:46.049 -->  00:12:47.449] CI SPEAKER_00']\n",
      "['[ 00:12:57.844 -->  00:12:59.970] CJ SPEAKER_00']\n",
      "['[ 00:13:02.400 -->  00:13:07.075] CK SPEAKER_00']\n",
      "['[ 00:13:13.487 -->  00:13:15.057] CL SPEAKER_00']\n",
      "['[ 00:13:16.592 -->  00:13:18.432] CM SPEAKER_00']\n",
      "['[ 00:13:21.435 -->  00:13:25.452] CN SPEAKER_00']\n",
      "['[ 00:13:33.839 -->  00:13:45.432] CO SPEAKER_00']\n",
      "['[ 00:13:35.762 -->  00:13:48.975] HC SPEAKER_01']\n",
      "['[ 00:13:48.975 -->  00:14:00.957] CP SPEAKER_00']\n",
      "['[ 00:13:55.641 -->  00:14:03.505] HD SPEAKER_01']\n",
      "['[ 00:14:03.505 -->  00:14:25.459] CQ SPEAKER_00']\n",
      "['[ 00:14:04.095 -->  00:14:05.867] HE SPEAKER_01']\n",
      "['[ 00:14:13.225 -->  00:14:14.018] HF SPEAKER_01']\n",
      "['[ 00:14:25.409 -->  00:15:37.347] HG SPEAKER_01']\n",
      "['[ 00:14:39.752 -->  00:14:49.962] CR SPEAKER_00']\n",
      "['[ 00:14:50.890 -->  00:14:52.830] CS SPEAKER_00']\n",
      "['[ 00:15:02.888 -->  00:15:07.799] CT SPEAKER_00']\n",
      "['[ 00:15:09.975 -->  00:15:12.034] CU SPEAKER_00']\n",
      "['[ 00:15:15.780 -->  00:15:19.510] CV SPEAKER_00']\n",
      "['[ 00:15:20.337 -->  00:15:20.860] CW SPEAKER_00']\n",
      "['[ 00:15:21.636 -->  00:15:25.956] CX SPEAKER_00']\n",
      "['[ 00:15:29.145 -->  00:15:29.280] CY SPEAKER_00']\n",
      "['[ 00:15:31.305 -->  00:15:41.346] CZ SPEAKER_00']\n",
      "['[ 00:15:41.481 -->  00:15:44.451] HH SPEAKER_01']\n",
      "['[ 00:15:42.983 -->  00:15:43.506] DA SPEAKER_00']\n",
      "['[ 00:15:44.451 -->  00:15:48.822] DB SPEAKER_00']\n",
      "['[ 00:15:49.598 -->  00:15:55.437] HI SPEAKER_01']\n",
      "['[ 00:15:55.437 -->  00:15:57.158] DC SPEAKER_00']\n",
      "['[ 00:15:56.517 -->  00:16:02.170] HJ SPEAKER_01']\n",
      "['[ 00:15:59.993 -->  00:16:05.309] DD SPEAKER_00']\n",
      "['[ 00:16:03.351 -->  00:16:16.159] HK SPEAKER_01']\n",
      "['[ 00:16:11.299 -->  00:16:11.451] DE SPEAKER_00']\n",
      "['[ 00:16:13.172 -->  00:16:21.087] DF SPEAKER_00']\n",
      "['[ 00:16:16.817 -->  00:16:24.192] HL SPEAKER_01']\n",
      "['[ 00:16:23.078 -->  00:16:30.908] DG SPEAKER_00']\n",
      "['[ 00:16:27.044 -->  00:16:38.873] HM SPEAKER_01']\n",
      "['[ 00:16:36.932 -->  00:16:51.462] DH SPEAKER_00']\n",
      "['[ 00:16:40.037 -->  00:16:40.189] HN SPEAKER_01']\n",
      "['[ 00:16:42.113 -->  00:16:43.665] HO SPEAKER_01']\n",
      "['[ 00:16:45.471 -->  00:16:48.660] HP SPEAKER_01']\n",
      "['[ 00:16:50.230 -->  00:17:04.472] HQ SPEAKER_01']\n",
      "['[ 00:16:58.802 -->  00:17:00.203] DI SPEAKER_00']\n",
      "['[ 00:17:05.451 -->  00:17:06.987] HR SPEAKER_01']\n",
      "['[ 00:17:05.991 -->  00:17:06.227] DJ SPEAKER_00']\n",
      "['[ 00:17:07.847 -->  00:17:09.012] DK SPEAKER_00']\n",
      "['[ 00:17:09.012 -->  00:17:32.907] HS SPEAKER_01']\n",
      "['[ 00:17:32.924 -->  00:17:37.429] DL SPEAKER_00']\n",
      "['[ 00:17:36.602 -->  00:17:47.183] HT SPEAKER_01']\n",
      "['[ 00:17:38.138 -->  00:17:38.948] DM SPEAKER_00']\n",
      "['[ 00:17:40.686 -->  00:17:45.884] DN SPEAKER_00']\n",
      "['[ 00:17:47.183 -->  00:17:56.346] DO SPEAKER_00']\n",
      "['[ 00:17:53.612 -->  00:18:19.195] HU SPEAKER_01']\n",
      "['[ 00:17:59.029 -->  00:17:59.957] DP SPEAKER_00']\n",
      "['[ 00:18:02.775 -->  00:18:03.957] DQ SPEAKER_00']\n",
      "['[ 00:18:18.773 -->  00:18:32.543] DR SPEAKER_00']\n",
      "['[ 00:18:28.949 -->  00:18:29.539] HV SPEAKER_01']\n",
      "['[ 00:18:33.623 -->  00:19:02.479] DS SPEAKER_00']\n",
      "['[ 00:18:43.140 -->  00:18:43.529] HW SPEAKER_01']\n",
      "['[ 00:19:02.175 -->  00:19:05.702] HX SPEAKER_01', '[ 00:19:06.360 -->  00:19:35.909] HY SPEAKER_01']\n",
      "['[ 00:19:07.694 -->  00:19:09.297] DT SPEAKER_00']\n",
      "['[ 00:19:22.493 -->  00:19:22.695] DU SPEAKER_00']\n",
      "['[ 00:19:33.647 -->  00:19:33.698] DV SPEAKER_00']\n",
      "['[ 00:19:35.639 -->  00:19:40.448] DW SPEAKER_00']\n",
      "['[ 00:19:37.394 -->  00:20:07.583] HZ SPEAKER_01']\n",
      "['[ 00:19:50.860 -->  00:19:50.961] DX SPEAKER_00']\n",
      "['[ 00:19:57.019 -->  00:20:00.360] DY SPEAKER_00']\n",
      "['[ 00:20:01.677 -->  00:20:05.828] DZ SPEAKER_00']\n",
      "['[ 00:20:06.435 -->  00:20:06.874] EA SPEAKER_00']\n",
      "['[ 00:20:07.634 -->  00:20:14.147] EB SPEAKER_00']\n",
      "['[ 00:20:13.118 -->  00:20:19.277] IA SPEAKER_01']\n",
      "['[ 00:20:16.763 -->  00:20:17.573] EC SPEAKER_00']\n",
      "['[ 00:20:18.585 -->  00:20:21.572] ED SPEAKER_00']\n",
      "['[ 00:20:20.104 -->  00:20:34.549] IB SPEAKER_01']\n",
      "['[ 00:20:26.888 -->  00:20:38.802] EE SPEAKER_00']\n",
      "['[ 00:20:36.794 -->  00:20:52.538] IC SPEAKER_01']\n",
      "['[ 00:20:41.991 -->  00:20:46.109] EF SPEAKER_00']\n",
      "['[ 00:20:50.985 -->  00:20:51.222] EG SPEAKER_00']\n",
      "['[ 00:20:52.538 -->  00:21:05.076] EH SPEAKER_00']\n",
      "['[ 00:21:01.245 -->  00:21:44.445] ID SPEAKER_01']\n",
      "['[ 00:21:10.797 -->  00:21:11.438] EI SPEAKER_00']\n",
      "['[ 00:21:18.357 -->  00:21:19.791] EJ SPEAKER_00']\n",
      "['[ 00:21:23.993 -->  00:21:32.734] EK SPEAKER_00']\n",
      "['[ 00:21:46.555 -->  00:22:06.501] IE SPEAKER_01']\n",
      "['[ 00:21:46.740 -->  00:21:47.078] EL SPEAKER_00']\n",
      "['[ 00:21:47.989 -->  00:21:49.187] EM SPEAKER_00']\n",
      "['[ 00:21:51.870 -->  00:21:55.752] EN SPEAKER_00']\n",
      "['[ 00:21:56.460 -->  00:21:58.300] EO SPEAKER_00']\n",
      "['[ 00:22:01.455 -->  00:22:04.493] EP SPEAKER_00']\n",
      "['[ 00:22:06.501 -->  00:22:12.424] EQ SPEAKER_00']\n",
      "['[ 00:22:10.652 -->  00:22:20.457] IF SPEAKER_01']\n",
      "['[ 00:22:19.799 -->  00:22:41.955] ER SPEAKER_00']\n",
      "['[ 00:22:38.226 -->  00:22:38.327] IG SPEAKER_01']\n",
      "['[ 00:22:41.922 -->  00:23:26.404] IH SPEAKER_01']\n",
      "['[ 00:22:50.123 -->  00:23:00.299] ES SPEAKER_00']\n",
      "['[ 00:23:03.100 -->  00:23:07.319] ET SPEAKER_00']\n",
      "['[ 00:23:09.293 -->  00:23:11.369] EU SPEAKER_00']\n",
      "['[ 00:23:14.018 -->  00:23:16.752] EV SPEAKER_00']\n",
      "['[ 00:23:20.160 -->  00:23:23.620] EW SPEAKER_00']\n",
      "['[ 00:23:26.404 -->  00:23:34.487] EX SPEAKER_00']\n",
      "['[ 00:23:28.497 -->  00:23:30.218] II SPEAKER_01']\n"
     ]
    }
   ],
   "source": [
    "import re\n",
    "dzs = open('diarization.txt').read().splitlines()\n",
    "\n",
    "groups = []\n",
    "g = []\n",
    "lastend = 0\n",
    "\n",
    "for d in dzs:   \n",
    "  if g and (g[0].split()[-1] != d.split()[-1]):      #same speaker\n",
    "    groups.append(g)\n",
    "    g = []\n",
    "  \n",
    "  g.append(d)\n",
    "  \n",
    "  end = re.findall('[0-9]+:[0-9]+:[0-9]+\\.[0-9]+', string=d)[1]\n",
    "  end = millisec(end)\n",
    "  if (lastend > end):       #segment engulfed by a previous segment\n",
    "    groups.append(g)\n",
    "    g = [] \n",
    "  else:\n",
    "    lastend = end\n",
    "if g:\n",
    "  groups.append(g)\n",
    "print(*groups, sep='\\n')"
   ]
  },
  {
   "cell_type": "code",
   "execution_count": 78,
   "id": "ca44ea86",
   "metadata": {},
   "outputs": [],
   "source": [
    "speakers = {'SPEAKER_00':('speaker0', '#CFF5E7', 'mint'), 'SPEAKER_01':('speaker1', '#A0E4CB', 'teal') ,\n",
    "           }"
   ]
  },
  {
   "cell_type": "code",
   "execution_count": 79,
   "id": "fb288bca",
   "metadata": {},
   "outputs": [],
   "source": [
    "html = list(preS)\n",
    "gidx = 0\n",
    "sapcer_datetime = datetime.timedelta(hours= 0,minutes=0,seconds=spacermilli/1000)\n",
    "for g in groups:  \n",
    "    shift = re.findall('[0-9]+:[0-9]+:[0-9]+\\.[0-9]+', string=g[0])[1]\n",
    "    end_time =datetime.timedelta(hours= float(shift[0:2]),minutes=float(shift[3:5]),seconds=float(shift[6:])) - sapcer_datetime #the start time in the original video\n",
    "    if subs[gidx]:\n",
    "        speaker = g[0].split()[-1]\n",
    "    if speaker in speakers:\n",
    "        speaker, boxclr, spkrclr = speakers[speaker] \n",
    "    if subs[gidx].start < end_time:\n",
    "        html.append(f'<div class=\"e\" style=\"background-color: {boxclr}\">\\n');\n",
    "        html.append(f'<span style=\"color: {spkrclr}\">{speaker}　　　　{subs[gidx].start}</span><br>\\n')\n",
    "    try:\n",
    "        while subs[gidx].start < end_time:\n",
    "          html.append(f'<div class=\"c\">')\n",
    "          html.append(f'\\t\\t\\t\\t<div class=\"t\"> {subs[gidx].content}</div><br>\\n')\n",
    "          html.append(f'</div>')\n",
    "          #print(speaker, boxclr, spkrclr,gidx,subs[gidx].content)\n",
    "          gidx += 1\n",
    "        html.append(f'</div>\\n');\n",
    "    except IndexError:\n",
    "        html.append(f'</div>\\n');\n",
    "        break\n",
    "\n",
    "html.append(postS)\n",
    "s = \"\".join(html)\n",
    "\n",
    "with open(target_id+\"_capspeaker.html\", \"w\") as text_file:\n",
    "    text_file.write(s)"
   ]
  }
 ],
 "metadata": {
  "kernelspec": {
   "display_name": "Python 3 (ipykernel)",
   "language": "python",
   "name": "python3"
  },
  "language_info": {
   "codemirror_mode": {
    "name": "ipython",
    "version": 3
   },
   "file_extension": ".py",
   "mimetype": "text/x-python",
   "name": "python",
   "nbconvert_exporter": "python",
   "pygments_lexer": "ipython3",
   "version": "3.9.13"
  },
  "toc": {
   "base_numbering": 1,
   "nav_menu": {},
   "number_sections": true,
   "sideBar": true,
   "skip_h1_title": false,
   "title_cell": "Table of Contents",
   "title_sidebar": "Contents",
   "toc_cell": false,
   "toc_position": {},
   "toc_section_display": true,
   "toc_window_display": false
  },
  "varInspector": {
   "cols": {
    "lenName": 16,
    "lenType": 16,
    "lenVar": 40
   },
   "kernels_config": {
    "python": {
     "delete_cmd_postfix": "",
     "delete_cmd_prefix": "del ",
     "library": "var_list.py",
     "varRefreshCmd": "print(var_dic_list())"
    },
    "r": {
     "delete_cmd_postfix": ") ",
     "delete_cmd_prefix": "rm(",
     "library": "var_list.r",
     "varRefreshCmd": "cat(var_dic_list()) "
    }
   },
   "types_to_exclude": [
    "module",
    "function",
    "builtin_function_or_method",
    "instance",
    "_Feature"
   ],
   "window_display": false
  }
 },
 "nbformat": 4,
 "nbformat_minor": 5
}
